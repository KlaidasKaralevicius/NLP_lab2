{
  "cells": [
    {
      "cell_type": "markdown",
      "metadata": {
        "id": "view-in-github",
        "colab_type": "text"
      },
      "source": [
        "<a href=\"https://colab.research.google.com/github/KlaidasKaralevicius/NLP_lab2/blob/main/lab2_Klaidas_Karalevicius.ipynb\" target=\"_parent\"><img src=\"https://colab.research.google.com/assets/colab-badge.svg\" alt=\"Open In Colab\"/></a>"
      ]
    },
    {
      "cell_type": "code",
      "execution_count": null,
      "metadata": {
        "id": "MJ3hHF_xAki1"
      },
      "outputs": [],
      "source": [
        "import os, re\n",
        "import numpy as np\n",
        "import pandas as pd\n",
        "from matplotlib import pyplot as plt\n",
        "import seaborn as sns"
      ]
    },
    {
      "cell_type": "code",
      "execution_count": null,
      "metadata": {
        "colab": {
          "base_uri": "https://localhost:8080/"
        },
        "id": "FDx_weZIvVjW",
        "outputId": "7f26d29f-a75d-4f4b-9250-8ab85017257e"
      },
      "outputs": [
        {
          "output_type": "stream",
          "name": "stdout",
          "text": [
            "Keras version: 3.4.1\n"
          ]
        }
      ],
      "source": [
        "import keras\n",
        "print('Keras version:', keras.__version__)\n",
        "keras.utils.set_random_seed(812)"
      ]
    },
    {
      "cell_type": "code",
      "execution_count": null,
      "metadata": {
        "colab": {
          "base_uri": "https://localhost:8080/"
        },
        "id": "WEbn2P1U48L9",
        "outputId": "96a22259-0238-434e-8e77-1ce30a9e70d6"
      },
      "outputs": [
        {
          "output_type": "stream",
          "name": "stdout",
          "text": [
            "  Preparing metadata (setup.py) ... \u001b[?25l\u001b[?25hdone\n",
            "\u001b[?25l   \u001b[90m━━━━━━━━━━━━━━━━━━━━━━━━━━━━━━━━━━━━━━━━\u001b[0m \u001b[32m0.0/235.5 kB\u001b[0m \u001b[31m?\u001b[0m eta \u001b[36m-:--:--\u001b[0m\r\u001b[2K   \u001b[90m━━━━━━━━━━━━━━━━━━━━━━━━━━━━━━━━━━━━━━━━\u001b[0m \u001b[32m235.5/235.5 kB\u001b[0m \u001b[31m10.9 MB/s\u001b[0m eta \u001b[36m0:00:00\u001b[0m\n",
            "\u001b[?25h  Building wheel for markovify (setup.py) ... \u001b[?25l\u001b[?25hdone\n",
            "Markovify version: 0.9.4\n"
          ]
        }
      ],
      "source": [
        "!pip install markovify -q\n",
        "import markovify\n",
        "print('Markovify version:', markovify.__version__)"
      ]
    },
    {
      "cell_type": "markdown",
      "metadata": {
        "id": "eFGD99kV3gvW"
      },
      "source": [
        "# Dainų tekstų / poezijos generavimas\n",
        "\n",
        "Šio laboratorinio darbo metu, sukursime dviejų modelių sistemą dainų tekstų generavimui:\n",
        "1. RNN (kelių sluoksnių LSTM) modelis prognozuos sekančios eilutės savybes;\n",
        "2. Markovo grandinių modelis ([markovify](https://pypi.org/project/markovify/)) generuos žodžių sekas."
      ]
    },
    {
      "cell_type": "markdown",
      "metadata": {
        "id": "E84GDfs8ukLu"
      },
      "source": [
        "## 1. Duomenų atsiuntimas ir apžiūra"
      ]
    },
    {
      "cell_type": "code",
      "execution_count": null,
      "metadata": {
        "colab": {
          "base_uri": "https://localhost:8080/"
        },
        "id": "OKDeRniyumot",
        "outputId": "a3e0ec8e-22f2-4baa-fe3d-e26978ecf7d1"
      },
      "outputs": [
        {
          "output_type": "stream",
          "name": "stdout",
          "text": [
            "Downloading from https://www.kaggle.com/api/v1/datasets/download/paultimothymooney/poetry?dataset_version_number=16...\n"
          ]
        },
        {
          "output_type": "stream",
          "name": "stderr",
          "text": [
            "100%|██████████| 2.00M/2.00M [00:00<00:00, 91.1MB/s]"
          ]
        },
        {
          "output_type": "stream",
          "name": "stdout",
          "text": [
            "Extracting files...\n",
            "Downloaded 49 files: ['missy-elliott.txt', 'ludacris.txt', 'notorious_big.txt', 'nicki-minaj.txt', 'radiohead.txt', 'janisjoplin.txt', 'bruno-mars.txt', 'Kanye_West.txt', 'nirvana.txt', 'michael-jackson.txt', 'amy-winehouse.txt', 'adele.txt', 'dj-khaled.txt', 'lady-gaga.txt', 'bruce-springsteen.txt', 'beatles.txt', 'Lil_Wayne.txt', 'lil-wayne.txt', 'britney-spears.txt', 'bob-marley.txt', 'bjork.txt', 'bob-dylan.txt', 'r-kelly.txt', 'jimi-hendrix.txt', 'kanye.txt', 'prince.txt', 'eminem.txt', 'alicia-keys.txt', 'rihanna.txt', 'notorious-big.txt', 'dolly-parton.txt', 'johnny-cash.txt', 'cake.txt', 'al-green.txt', 'dickinson.txt', 'disney.txt', 'nickelback.txt', 'lorde.txt', 'leonard-cohen.txt', 'dr-seuss.txt', 'blink-182.txt', 'bieber.txt', 'drake.txt', 'joni-mitchell.txt', 'lin-manuel-miranda.txt', 'paul-simon.txt', 'patti-smith.txt', 'nursery_rhymes.txt', 'kanye-west.txt']\n"
          ]
        },
        {
          "output_type": "stream",
          "name": "stderr",
          "text": [
            "\n"
          ]
        }
      ],
      "source": [
        "import kagglehub\n",
        "\n",
        "datapath = kagglehub.dataset_download(\"paultimothymooney/poetry\")\n",
        "data_files = os.listdir(datapath)\n",
        "print(f'Downloaded {len(data_files)} files:', data_files)"
      ]
    },
    {
      "cell_type": "code",
      "execution_count": null,
      "metadata": {
        "colab": {
          "base_uri": "https://localhost:8080/"
        },
        "id": "zHjBLmqQw4bw",
        "outputId": "2c556e49-02c6-43b4-978a-201ef29761da"
      },
      "outputs": [
        {
          "output_type": "stream",
          "name": "stdout",
          "text": [
            "Total characters: 6730841\n",
            "- missy-elliott.txt: 191833 characters (2.85 %)\n",
            "- ludacris.txt: 237218 characters (3.52 %)\n",
            "- notorious_big.txt: 228694 characters (3.40 %)\n",
            "- nicki-minaj.txt: 210135 characters (3.12 %)\n",
            "- radiohead.txt: 58829 characters (0.87 %)\n",
            "- janisjoplin.txt: 106182 characters (1.58 %)\n",
            "- bruno-mars.txt: 131415 characters (1.95 %)\n",
            "- Kanye_West.txt: 251069 characters (3.73 %)\n",
            "- nirvana.txt: 60753 characters (0.90 %)\n",
            "- michael-jackson.txt: 251022 characters (3.73 %)\n",
            "- amy-winehouse.txt: 76363 characters (1.13 %)\n",
            "- adele.txt: 91330 characters (1.36 %)\n",
            "- dj-khaled.txt: 238318 characters (3.54 %)\n",
            "- lady-gaga.txt: 147050 characters (2.18 %)\n",
            "- bruce-springsteen.txt: 107497 characters (1.60 %)\n",
            "- beatles.txt: 70685 characters (1.05 %)\n",
            "- Lil_Wayne.txt: 114135 characters (1.70 %)\n",
            "- lil-wayne.txt: 114134 characters (1.70 %)\n",
            "- britney-spears.txt: 135287 characters (2.01 %)\n",
            "- bob-marley.txt: 91527 characters (1.36 %)\n",
            "- bjork.txt: 53217 characters (0.79 %)\n",
            "- bob-dylan.txt: 196797 characters (2.92 %)\n",
            "- r-kelly.txt: 171948 characters (2.55 %)\n",
            "- jimi-hendrix.txt: 71309 characters (1.06 %)\n",
            "- kanye.txt: 153226 characters (2.28 %)\n",
            "- prince.txt: 312966 characters (4.65 %)\n",
            "- eminem.txt: 322578 characters (4.79 %)\n",
            "- alicia-keys.txt: 113439 characters (1.69 %)\n",
            "- rihanna.txt: 145747 characters (2.17 %)\n",
            "- notorious-big.txt: 228179 characters (3.39 %)\n",
            "- dolly-parton.txt: 88006 characters (1.31 %)\n",
            "- johnny-cash.txt: 89278 characters (1.33 %)\n",
            "- cake.txt: 77505 characters (1.15 %)\n",
            "- al-green.txt: 80413 characters (1.19 %)\n",
            "- dickinson.txt: 169575 characters (2.52 %)\n",
            "- disney.txt: 87688 characters (1.30 %)\n",
            "- nickelback.txt: 141959 characters (2.11 %)\n",
            "- lorde.txt: 68654 characters (1.02 %)\n",
            "- leonard-cohen.txt: 98923 characters (1.47 %)\n",
            "- dr-seuss.txt: 29562 characters (0.44 %)\n",
            "- blink-182.txt: 97116 characters (1.44 %)\n",
            "- bieber.txt: 143695 characters (2.13 %)\n",
            "- drake.txt: 199038 characters (2.96 %)\n",
            "- joni-mitchell.txt: 101115 characters (1.50 %)\n",
            "- lin-manuel-miranda.txt: 58256 characters (0.87 %)\n",
            "- paul-simon.txt: 81075 characters (1.20 %)\n",
            "- patti-smith.txt: 82018 characters (1.22 %)\n",
            "- nursery_rhymes.txt: 102962 characters (1.53 %)\n",
            "- kanye-west.txt: 251121 characters (3.73 %)\n"
          ]
        }
      ],
      "source": [
        "characters_counts = {}\n",
        "for data_file in data_files:\n",
        "  with open(os.path.join(datapath, data_file), 'r') as f:\n",
        "    characters_counts[data_file] = len(f.read())\n",
        "\n",
        "total = sum(list(characters_counts.values()))\n",
        "print(f'Total characters: {total}')\n",
        "for k, v in characters_counts.items():\n",
        "  print(f'- {k}: {v} characters ({v / total * 100 :.2f} %)')"
      ]
    },
    {
      "cell_type": "code",
      "execution_count": null,
      "metadata": {
        "colab": {
          "base_uri": "https://localhost:8080/"
        },
        "id": "A7oZFJQ3vk3S",
        "outputId": "d225555f-3fd0-4c64-a995-eebca3ae375d"
      },
      "outputs": [
        {
          "output_type": "stream",
          "name": "stdout",
          "text": [
            "\n",
            "\n",
            "[Spoken Intro:]\n",
            "You ever want something \n",
            "that you know you shouldn't have \n",
            "The more you know you shouldn't have it, \n",
            "The more you want it \n",
            "And then one day you get it, \n",
            "It's so good too \n",
            "But it's just like my girl \n",
            "When she's around me \n",
            "I just feel so good, so good \n",
            "But right now I just feel cold, so cold \n",
            "Right down to my bones \n",
            "'Cause ooh... \n",
            "Ain't no sunshine when she's gone \n",
            "It's not warm when she's away \n",
            "Ain't no sunshine when she's gone \n",
            "And she's always gone too long \n",
            "Anytime she goes a\n"
          ]
        }
      ],
      "source": [
        "artist_file = 'michael-jackson.txt'\n",
        "with open(os.path.join(datapath, artist_file), 'r') as f:\n",
        "    print(f.read(500))"
      ]
    },
    {
      "cell_type": "markdown",
      "metadata": {
        "id": "H94t27q7Yz4o"
      },
      "source": [
        "### Paruošimas modelio apmokymui: teksto normalizavimas\n",
        "\n",
        "Dainų tekstai gali turėti skaičius, bet mums reikia konvertuoti juos į žodžius, kad galėtumėme vėliau teisingai rimuoti. Tam naudosime `num2words` paketą. Jų yra ir kitų."
      ]
    },
    {
      "cell_type": "code",
      "execution_count": null,
      "metadata": {
        "colab": {
          "base_uri": "https://localhost:8080/"
        },
        "id": "jaa9Mlx0YxP7",
        "outputId": "c6042798-ad4e-4d72-dcac-97b5b3116e67"
      },
      "outputs": [
        {
          "output_type": "stream",
          "name": "stdout",
          "text": [
            "  Preparing metadata (setup.py) ... \u001b[?25l\u001b[?25hdone\n",
            "\u001b[?25l   \u001b[90m━━━━━━━━━━━━━━━━━━━━━━━━━━━━━━━━━━━━━━━━\u001b[0m \u001b[32m0.0/143.3 kB\u001b[0m \u001b[31m?\u001b[0m eta \u001b[36m-:--:--\u001b[0m\r\u001b[2K   \u001b[90m━━━━━━━━━━━━━━━━━━━━━━━━━━━━━━━━━━━━━━━━\u001b[0m \u001b[32m143.3/143.3 kB\u001b[0m \u001b[31m6.8 MB/s\u001b[0m eta \u001b[36m0:00:00\u001b[0m\n",
            "\u001b[?25h  Building wheel for docopt (setup.py) ... \u001b[?25l\u001b[?25hdone\n"
          ]
        }
      ],
      "source": [
        "!pip install num2words -q\n",
        "from num2words import num2words"
      ]
    },
    {
      "cell_type": "code",
      "execution_count": null,
      "metadata": {
        "colab": {
          "base_uri": "https://localhost:8080/",
          "height": 35
        },
        "id": "0-QVZhmlZdhw",
        "outputId": "4cd34be9-8ac7-4be2-f2a8-88e3a0062684"
      },
      "outputs": [
        {
          "output_type": "execute_result",
          "data": {
            "text/plain": [
              "'twenty-three'"
            ],
            "application/vnd.google.colaboratory.intrinsic+json": {
              "type": "string"
            }
          },
          "metadata": {},
          "execution_count": 8
        }
      ],
      "source": [
        "num2words(23)"
      ]
    },
    {
      "cell_type": "markdown",
      "metadata": {
        "id": "juwmLS--LEsC"
      },
      "source": [
        "Galime naudoti standartinius normalizavimo metodus, pavyzdžiui, sumažinti visas raides ir pašalinti skyrybos ženklus, tačiau turėtume palikti trumpinius, nes jie turi skirtingą nuo pilnų versijų ritmą ir kitaip rimuojasi."
      ]
    },
    {
      "cell_type": "code",
      "execution_count": null,
      "metadata": {
        "id": "zt9z0Kyc_8X4"
      },
      "outputs": [],
      "source": [
        "def normalize_word_line(line: str) -> list[str]:\n",
        "  row = [x.lower() for x in re.findall(r\"\\w+'?\\w*\", line)]\n",
        "  new_row = []\n",
        "  for word in row:\n",
        "    numbers = re.findall(r\"\\d+\", word)\n",
        "    for n in numbers:\n",
        "      word = word.replace(n, num2words(int(n)))\n",
        "    new_row.append(word)\n",
        "  return new_row"
      ]
    },
    {
      "cell_type": "code",
      "execution_count": null,
      "metadata": {
        "colab": {
          "base_uri": "https://localhost:8080/"
        },
        "id": "090xy2QzajSY",
        "outputId": "f4cff028-1e74-46e9-8431-e01fb2e26f0a"
      },
      "outputs": [
        {
          "output_type": "execute_result",
          "data": {
            "text/plain": [
              "['i', 'got', 'ninety-nine', 'problems', 'but', 'nlp', \"ain't\", 'one']"
            ]
          },
          "metadata": {},
          "execution_count": 10
        }
      ],
      "source": [
        "normalize_word_line(\"I got 99 problems but NLP ain't one\")"
      ]
    },
    {
      "cell_type": "markdown",
      "metadata": {
        "id": "spBLI5m_LV7G"
      },
      "source": [
        "Panaudojame normalizavimą Nirvana tekstams, galime pažiūrėti kokie žodžiai yra dažniausi:"
      ]
    },
    {
      "cell_type": "code",
      "execution_count": null,
      "metadata": {
        "colab": {
          "base_uri": "https://localhost:8080/",
          "height": 571
        },
        "id": "g2eABz5dyht9",
        "outputId": "620924d2-5819-43cb-f297-9a07c8a25c75"
      },
      "outputs": [
        {
          "output_type": "display_data",
          "data": {
            "text/plain": [
              "<Figure size 1400x600 with 1 Axes>"
            ],
            "image/png": "[encoded data removed]"
          },
          "metadata": {}
        }
      ],
      "source": [
        "with open(os.path.join(datapath, artist_file), 'r') as f:\n",
        "    words = normalize_word_line(f.read())\n",
        "\n",
        "words_u, words_c = np.unique(words, return_counts=True)\n",
        "sorted_by_counts = sorted([(u, c) for u, c in zip(words_u, words_c)], key=lambda x: x[1])\n",
        "\n",
        "n_to_plot = 30\n",
        "common_words = [x[0] for x in sorted_by_counts[-n_to_plot:]]\n",
        "common_counts = [int(x[1]) for x in sorted_by_counts[-n_to_plot:]]\n",
        "\n",
        "plt.figure(figsize=(14, 6))\n",
        "plt.bar(x=common_words, height=common_counts)\n",
        "plt.xticks(rotation=45)\n",
        "plt.ylabel('Number of occurences:')\n",
        "plt.title(f'Most commonly used words in: {artist_file}')\n",
        "plt.show()"
      ]
    },
    {
      "cell_type": "markdown",
      "metadata": {
        "id": "zf4FB_wU7SXL"
      },
      "source": [
        "## 2. Markovo grandinių modelio inicializavimas\n",
        "\n",
        "Galime sukurti paprastą Markovo grandinių modelį Nirvana grupės žodžiams.\n",
        "- Sekantis žodis yra pasirenkamas naudojant sukonstruotą Markovo grandinę ir atitinkamas tikimybes."
      ]
    },
    {
      "cell_type": "code",
      "execution_count": null,
      "metadata": {
        "colab": {
          "base_uri": "https://localhost:8080/"
        },
        "id": "FhLF72fh7Swc",
        "outputId": "7b1003db-0d38-4fb7-be58-47ef515eeaba"
      },
      "outputs": [
        {
          "output_type": "stream",
          "name": "stdout",
          "text": [
            "Oh oh Hollywood it’s got you drunk enough to fall\n",
            "But if it seems so hard to live...\n",
            "Sometimes I can be so proud if you just scream and shout it\n",
            "Tell me what has become of my hand and we kissed in the village\n",
            "And I can feel the glow of candlelight\n"
          ]
        }
      ],
      "source": [
        "with open(os.path.join(datapath, artist_file), 'r') as f:\n",
        "  lyrics = f.read()\n",
        "\n",
        "# Random seed neužfiksuotas, todėl visi gausite skirtingus rezultatus\n",
        "markov_model = markovify.NewlineText(lyrics)\n",
        "\n",
        "for i in range(5):\n",
        "    print(markov_model.make_sentence())"
      ]
    },
    {
      "cell_type": "markdown",
      "metadata": {
        "id": "en_sNO3e78pc"
      },
      "source": [
        "Sakiniai atrodo turi kažkokią prasmę, tačiau nėra ritmo, ir eilutės nėra rimuotos.\n",
        "\n",
        "Galime apmokyti RNN modelį, kuris kontroliuos eilėraščio struktūrą."
      ]
    },
    {
      "cell_type": "markdown",
      "metadata": {
        "id": "n27GIbe598c3"
      },
      "source": [
        "##3. Ritmo ištraukimas iš duomenų\n",
        "\n",
        "Paskaičiuojame skiemenų kiekius:"
      ]
    },
    {
      "cell_type": "code",
      "execution_count": null,
      "metadata": {
        "id": "pGA101F393i1"
      },
      "outputs": [],
      "source": [
        "def n_syllables(word_line: list[str]):\n",
        "    vowels = 'aeiouy'\n",
        "    syllable_count = 0\n",
        "\n",
        "    for word in word_line:\n",
        "        for i, char in enumerate(word):\n",
        "            if char in vowels:\n",
        "                if (i == 0) or (word[i-1] not in vowels):\n",
        "                    syllable_count += 1\n",
        "        word_vowels_count = sum([x in vowels for x in word])\n",
        "        if word_vowels_count == 0:  # abreviaturos\n",
        "            syllable_count = len(word)  # pvz. \"NLP\" skaitosi kaip \"en-el-pi\"\n",
        "        elif word_vowels_count > 1 and (word[-1] == 'e') and (word[-2] not in vowels):  # paskutinė \"e\" dažnai nesakoma anglų k., bet \"ie\", \"ee\" ištariama\n",
        "            syllable_count -= 1\n",
        "\n",
        "    return syllable_count"
      ]
    },
    {
      "cell_type": "code",
      "execution_count": null,
      "metadata": {
        "colab": {
          "base_uri": "https://localhost:8080/"
        },
        "id": "Jyv6q4Ed_1F_",
        "outputId": "6946125f-611d-4d5b-9347-9634d903fbdd"
      },
      "outputs": [
        {
          "output_type": "stream",
          "name": "stdout",
          "text": [
            "['when', \"she's\", 'around', 'me']\n",
            "N syllables: 5\n"
          ]
        }
      ],
      "source": [
        "with open(os.path.join(datapath, artist_file), 'r') as f:\n",
        "  lyrics = f.read()\n",
        "sentence = normalize_word_line(lyrics.splitlines()[10])\n",
        "print(sentence)\n",
        "print(f'N syllables: {n_syllables(sentence)}')"
      ]
    },
    {
      "cell_type": "markdown",
      "metadata": {
        "id": "Q17bGYdY8hcI"
      },
      "source": [
        "Eilėraščiuose paskutini žodžiai dažniausiai rimuojasi. Tam naudosime [pronouncing](https://pypi.org/project/pronouncing/) paketą:"
      ]
    },
    {
      "cell_type": "code",
      "execution_count": null,
      "metadata": {
        "colab": {
          "base_uri": "https://localhost:8080/"
        },
        "id": "e4EInEjV8htU",
        "outputId": "ea0b7141-3728-4bc3-dbeb-e5cfc6364bfb"
      },
      "outputs": [
        {
          "output_type": "stream",
          "name": "stdout",
          "text": [
            "  Preparing metadata (setup.py) ... \u001b[?25l\u001b[?25hdone\n",
            "\u001b[2K   \u001b[90m━━━━━━━━━━━━━━━━━━━━━━━━━━━━━━━━━━━━━━━━\u001b[0m \u001b[32m939.4/939.4 kB\u001b[0m \u001b[31m17.1 MB/s\u001b[0m eta \u001b[36m0:00:00\u001b[0m\n",
            "\u001b[?25h  Building wheel for pronouncing (setup.py) ... \u001b[?25l\u001b[?25hdone\n",
            "Pronouncing version: 0.2.0\n"
          ]
        }
      ],
      "source": [
        "!pip install pronouncing -q\n",
        "import pronouncing\n",
        "print('Pronouncing version:', pronouncing.__version__)"
      ]
    },
    {
      "cell_type": "markdown",
      "metadata": {
        "id": "md7yqAUS9HTE"
      },
      "source": [
        "10 žodžių kurie rimuojasi su žodžiu \"nirvana\":"
      ]
    },
    {
      "cell_type": "code",
      "execution_count": null,
      "metadata": {
        "colab": {
          "base_uri": "https://localhost:8080/"
        },
        "id": "71ysbwR28-Uz",
        "outputId": "e5aa6ff2-9642-470f-d3c5-2d8bf153c8fe"
      },
      "outputs": [
        {
          "output_type": "execute_result",
          "data": {
            "text/plain": [
              "array(['confound', 'hound', 'unsound', 'renowned', 'surround', 'wound',\n",
              "       'bound', 'lb', 'mound', \"'round\"], dtype='<U10')"
            ]
          },
          "metadata": {},
          "execution_count": 16
        }
      ],
      "source": [
        "np.random.choice(pronouncing.rhymes(\"around\"), size=10)"
      ]
    },
    {
      "cell_type": "markdown",
      "metadata": {
        "id": "ZWJ-PFEX9qtN"
      },
      "source": [
        "Tačiau mes nenorime naudoti bele kokius žodžius, o norime prioretizuoti žodžius iš jau esamų atlikėjo dainų. Todėl reikia sukonstruoti rimuojančių žodžių žodyną."
      ]
    },
    {
      "cell_type": "code",
      "execution_count": null,
      "metadata": {
        "colab": {
          "base_uri": "https://localhost:8080/"
        },
        "id": "_fwmgC_oSexs",
        "outputId": "e58dbcc0-05d9-42d7-9aab-701db76787cf"
      },
      "outputs": [
        {
          "output_type": "stream",
          "name": "stdout",
          "text": [
            "Collected 184 rhymes\n"
          ]
        }
      ],
      "source": [
        "def get_rhyme(line: list[str]) -> str:\n",
        "    last_word = re.sub('\\W+', '', line[-1])\n",
        "    all_rhymes = pronouncing.rhymes(last_word)\n",
        "    if all_rhymes:\n",
        "        rhyming_ends = [x[-2:] for x in all_rhymes]\n",
        "        most_common_rhyme = max(set(rhyming_ends), key=rhyming_ends.count)\n",
        "    else:\n",
        "        most_common_rhyme = last_word[-2:]\n",
        "    return most_common_rhyme\n",
        "\n",
        "\n",
        "def get_rhyme_list(normalized_lyrics: list[list[str]]):\n",
        "  rhyme_set = set()\n",
        "  for row in normalized_lyrics:\n",
        "    most_common_rhyme = get_rhyme(row)\n",
        "    rhyme_set.add(most_common_rhyme)\n",
        "\n",
        "  sorted_rhyme_set = sorted(list(rhyme_set), key=lambda x: x[-1])\n",
        "  return sorted_rhyme_set\n",
        "\n",
        "\n",
        "with open(os.path.join(datapath, artist_file), 'r') as f:\n",
        "  lyrics = f.read()\n",
        "lyrics = [normalize_word_line(x) for x in lyrics.splitlines()]\n",
        "lyrics = [x for x in lyrics if x]\n",
        "rhymes = get_rhyme_list(lyrics)\n",
        "print(f'Collected {len(rhymes)} rhymes')"
      ]
    },
    {
      "cell_type": "code",
      "execution_count": null,
      "metadata": {
        "colab": {
          "base_uri": "https://localhost:8080/"
        },
        "id": "842oEc5YTSit",
        "outputId": "006bc60a-0f8e-49dc-8dbe-f2ca31bdb225"
      },
      "outputs": [
        {
          "output_type": "execute_result",
          "data": {
            "text/plain": [
              "[\"s'\", 'ia', 'a', 'ea', 'sa', 'da', 'ra', 'ma', 'ta', 'aa']"
            ]
          },
          "metadata": {},
          "execution_count": 18
        }
      ],
      "source": [
        "rhymes[:10]"
      ]
    },
    {
      "cell_type": "markdown",
      "metadata": {
        "id": "A2ve6VNfcpkF"
      },
      "source": [
        "Dabar galime pridėti skiemenų kiekio ir rimuojančių žodžių skaičiavimus kaip sugeneruotų eilučių savybes."
      ]
    },
    {
      "cell_type": "markdown",
      "metadata": {
        "id": "hqrqD4NVfQvP"
      },
      "source": [
        "## 4. Duomenų rinkinio paruošimas\n",
        "\n",
        "Modelis negalės tiesiogiai operuoti skiemenimis, todėl turime naudoti skaičius:"
      ]
    },
    {
      "cell_type": "code",
      "execution_count": null,
      "metadata": {
        "colab": {
          "base_uri": "https://localhost:8080/"
        },
        "id": "uPtBQstUfj43",
        "outputId": "692506f2-084b-41a5-cfe5-cccda1fd43a8"
      },
      "outputs": [
        {
          "output_type": "stream",
          "name": "stdout",
          "text": [
            "Rhyme float: 0.72 \tLine: Coming at ya rather too fast for us\n",
            "Rhyme float: 0.78 \tLine: Feel the vibe cause I just couldn't believe it\n",
            "Rhyme float: 0.52 \tLine: The Way You Shake Your Body Won't You G'on Down\n",
            "Rhyme float: 0.70 \tLine: When This Is Injustice\n",
            "Rhyme float: 0.48 \tLine: He wanna wrap his arms all around and now my money's gone\n"
          ]
        }
      ],
      "source": [
        "def get_rhyme_float(line: list[str], rhyme_list: list[str]) -> float | None:\n",
        "  rhyme = get_rhyme(line)\n",
        "  if rhyme in rhyme_list:\n",
        "    return rhyme_list.index(rhyme) / len(rhyme_list)\n",
        "  else:\n",
        "    return None\n",
        "\n",
        "\n",
        "test = [markov_model.make_sentence() for _ in range(5)]\n",
        "for line in test:\n",
        "  rhyme_float = get_rhyme_float(normalize_word_line(line), rhymes)\n",
        "  print(f'Rhyme float: {rhyme_float:.2f} \\tLine:', line)"
      ]
    },
    {
      "cell_type": "code",
      "execution_count": null,
      "metadata": {
        "colab": {
          "base_uri": "https://localhost:8080/"
        },
        "id": "EVXYruyxSRwG",
        "outputId": "58317460-7797-4540-9e53-e213fea82a94"
      },
      "outputs": [
        {
          "output_type": "stream",
          "name": "stdout",
          "text": [
            "(['she', 'said', 'i', 'have', 'to', 'tell', 'him', 'what', 'you', 'want'], 10, 0.75)\n",
            "([\"we've\", 'got', 'rainbows', 'yet', 'to', 'find', 'the', 'right', 'to', 'shake', 'my', 'family'], 15, 0.8804347826086957)\n"
          ]
        }
      ],
      "source": [
        "def get_random_lines(markov_model, n_rows: int) -> list[list[str]]:\n",
        "  lines = []\n",
        "  last_words = []\n",
        "\n",
        "  while len(lines) < n_rows:\n",
        "    line = markov_model.make_sentence(max_overlap_ratio=.49, tries=100)\n",
        "    # nenorime gauti tuščios eilutės ar jau turimos eilutės\n",
        "    if (line is not None) and (line not in lines):\n",
        "      last_word = normalize_word_line(line)[-1]\n",
        "      # nenorime kad dažnai pasikartotų tas pats žodis eilutės gale\n",
        "      if last_words.count(last_word) < 3:\n",
        "        lines.append(normalize_word_line(line))\n",
        "        last_words.append(last_word)\n",
        "\n",
        "  return lines\n",
        "\n",
        "\n",
        "def get_line_features(line: list[str], rhyme_list: list[str]) -> tuple:\n",
        "  return (line, n_syllables(line), get_rhyme_float(line, rhyme_list)) # n_syllables(line) turi buti float ne int\n",
        "\n",
        "\n",
        "test_lines = get_random_lines(markov_model, 2)\n",
        "for line in test_lines:\n",
        "  print(get_line_features(line, rhymes))"
      ]
    },
    {
      "cell_type": "markdown",
      "metadata": {
        "id": "5SiCs45fUFqQ"
      },
      "source": [
        "Konstruojame duomenų rinkinį:"
      ]
    },
    {
      "cell_type": "code",
      "execution_count": null,
      "metadata": {
        "colab": {
          "base_uri": "https://localhost:8080/"
        },
        "id": "CxeNDf7afRd1",
        "outputId": "ec9856e3-2a3f-45ba-de94-175b9cf53bf7"
      },
      "outputs": [
        {
          "output_type": "execute_result",
          "data": {
            "text/plain": [
              "(9481, 9481)"
            ]
          },
          "metadata": {},
          "execution_count": 22
        }
      ],
      "source": [
        "def build_dataset(lines: list[list[str]], rhyme_list: list[str]):\n",
        "\tfeatures = [get_line_features(x, rhyme_list) for x in lines]\n",
        "\tx_data, y_data = [], []\n",
        "\n",
        "  # turėsime standartinę struktūrą kai eilutės rimuojasi po 4 grupėje\n",
        "\t# pirmos dvi eilutės bus pradinės savybės, antros dvi eilutės - prognozuojamos\n",
        "\tfor i in range(len(features) - 3):\n",
        "\t\t# duomenyse liks tik eilučių savybes, todėl visur [1:]\n",
        "\t\tline1, line2 = features[i    ][1:], features[i + 1][1:]\n",
        "\t\tline3, line4 = features[i + 2][1:], features[i + 3][1:]\n",
        "\t\tx_data.append(np.array([line1, line2]))\n",
        "\t\ty_data.append(np.array([line3, line4]))\n",
        "\treturn np.array(x_data), np.array(y_data)\n",
        "\n",
        "\n",
        "dataset = build_dataset(lyrics, rhymes)\n",
        "len(dataset[0]), len(dataset[1])"
      ]
    },
    {
      "cell_type": "code",
      "execution_count": null,
      "metadata": {
        "colab": {
          "base_uri": "https://localhost:8080/"
        },
        "id": "Sr_2xL_7Woko",
        "outputId": "bf3588a9-b960-489e-9d14-3b28f5988ce2"
      },
      "outputs": [
        {
          "output_type": "execute_result",
          "data": {
            "text/plain": [
              "(array([[4.        , 0.55434783],\n",
              "        [7.        , 0.27717391]]),\n",
              " array([[6.        , 0.19021739],\n",
              "        [8.        , 0.77717391]]))"
            ]
          },
          "metadata": {},
          "execution_count": 23
        }
      ],
      "source": [
        "# pirmo mėginio pvz.\n",
        "dataset[0][0], dataset[1][0]"
      ]
    },
    {
      "cell_type": "markdown",
      "metadata": {
        "id": "M65DDnrB1wa9"
      },
      "source": [
        "## 5. RNN modelio inicializavimas\n",
        "\n",
        "Mūsų modelis turės prognozuoti naujų 4 eilučių savybes gaunant senas 4 eilutes."
      ]
    },
    {
      "cell_type": "code",
      "execution_count": null,
      "metadata": {
        "colab": {
          "base_uri": "https://localhost:8080/",
          "height": 225
        },
        "id": "oAMK9WWt11F-",
        "outputId": "cd414110-05df-4c81-fb5c-bec37c1b4a56"
      },
      "outputs": [
        {
          "output_type": "display_data",
          "data": {
            "text/plain": [
              "\u001b[1mModel: \"LSTM-based_lyrics_generator\"\u001b[0m\n"
            ],
            "text/html": [
              "<pre style=\"white-space:pre;overflow-x:auto;line-height:normal;font-family:Menlo,'DejaVu Sans Mono',consolas,'Courier New',monospace\"><span style=\"font-weight: bold\">Model: \"LSTM-based_lyrics_generator\"</span>\n",
              "</pre>\n"
            ]
          },
          "metadata": {}
        },
        {
          "output_type": "display_data",
          "data": {
            "text/plain": [
              "┏━━━━━━━━━━━━━━━━━━━━━━━━━━━━━━━━━━━━━━┳━━━━━━━━━━━━━━━━━━━━━━━━━━━━━┳━━━━━━━━━━━━━━━━━┓\n",
              "┃\u001b[1m \u001b[0m\u001b[1mLayer (type)                        \u001b[0m\u001b[1m \u001b[0m┃\u001b[1m \u001b[0m\u001b[1mOutput Shape               \u001b[0m\u001b[1m \u001b[0m┃\u001b[1m \u001b[0m\u001b[1m        Param #\u001b[0m\u001b[1m \u001b[0m┃\n",
              "┡━━━━━━━━━━━━━━━━━━━━━━━━━━━━━━━━━━━━━━╇━━━━━━━━━━━━━━━━━━━━━━━━━━━━━╇━━━━━━━━━━━━━━━━━┩\n",
              "│ lstm (\u001b[38;5;33mLSTM\u001b[0m)                          │ (\u001b[38;5;45mNone\u001b[0m, \u001b[38;5;34m2\u001b[0m, \u001b[38;5;34m4\u001b[0m)                │             \u001b[38;5;34m112\u001b[0m │\n",
              "├──────────────────────────────────────┼─────────────────────────────┼─────────────────┤\n",
              "│ lstm_1 (\u001b[38;5;33mLSTM\u001b[0m)                        │ (\u001b[38;5;45mNone\u001b[0m, \u001b[38;5;34m2\u001b[0m, \u001b[38;5;34m8\u001b[0m)                │             \u001b[38;5;34m416\u001b[0m │\n",
              "├──────────────────────────────────────┼─────────────────────────────┼─────────────────┤\n",
              "│ lstm_2 (\u001b[38;5;33mLSTM\u001b[0m)                        │ (\u001b[38;5;45mNone\u001b[0m, \u001b[38;5;34m2\u001b[0m, \u001b[38;5;34m2\u001b[0m)                │              \u001b[38;5;34m88\u001b[0m │\n",
              "└──────────────────────────────────────┴─────────────────────────────┴─────────────────┘\n"
            ],
            "text/html": [
              "<pre style=\"white-space:pre;overflow-x:auto;line-height:normal;font-family:Menlo,'DejaVu Sans Mono',consolas,'Courier New',monospace\">┏━━━━━━━━━━━━━━━━━━━━━━━━━━━━━━━━━━━━━━┳━━━━━━━━━━━━━━━━━━━━━━━━━━━━━┳━━━━━━━━━━━━━━━━━┓\n",
              "┃<span style=\"font-weight: bold\"> Layer (type)                         </span>┃<span style=\"font-weight: bold\"> Output Shape                </span>┃<span style=\"font-weight: bold\">         Param # </span>┃\n",
              "┡━━━━━━━━━━━━━━━━━━━━━━━━━━━━━━━━━━━━━━╇━━━━━━━━━━━━━━━━━━━━━━━━━━━━━╇━━━━━━━━━━━━━━━━━┩\n",
              "│ lstm (<span style=\"color: #0087ff; text-decoration-color: #0087ff\">LSTM</span>)                          │ (<span style=\"color: #00d7ff; text-decoration-color: #00d7ff\">None</span>, <span style=\"color: #00af00; text-decoration-color: #00af00\">2</span>, <span style=\"color: #00af00; text-decoration-color: #00af00\">4</span>)                │             <span style=\"color: #00af00; text-decoration-color: #00af00\">112</span> │\n",
              "├──────────────────────────────────────┼─────────────────────────────┼─────────────────┤\n",
              "│ lstm_1 (<span style=\"color: #0087ff; text-decoration-color: #0087ff\">LSTM</span>)                        │ (<span style=\"color: #00d7ff; text-decoration-color: #00d7ff\">None</span>, <span style=\"color: #00af00; text-decoration-color: #00af00\">2</span>, <span style=\"color: #00af00; text-decoration-color: #00af00\">8</span>)                │             <span style=\"color: #00af00; text-decoration-color: #00af00\">416</span> │\n",
              "├──────────────────────────────────────┼─────────────────────────────┼─────────────────┤\n",
              "│ lstm_2 (<span style=\"color: #0087ff; text-decoration-color: #0087ff\">LSTM</span>)                        │ (<span style=\"color: #00d7ff; text-decoration-color: #00d7ff\">None</span>, <span style=\"color: #00af00; text-decoration-color: #00af00\">2</span>, <span style=\"color: #00af00; text-decoration-color: #00af00\">2</span>)                │              <span style=\"color: #00af00; text-decoration-color: #00af00\">88</span> │\n",
              "└──────────────────────────────────────┴─────────────────────────────┴─────────────────┘\n",
              "</pre>\n"
            ]
          },
          "metadata": {}
        },
        {
          "output_type": "display_data",
          "data": {
            "text/plain": [
              "\u001b[1m Total params: \u001b[0m\u001b[38;5;34m616\u001b[0m (2.41 KB)\n"
            ],
            "text/html": [
              "<pre style=\"white-space:pre;overflow-x:auto;line-height:normal;font-family:Menlo,'DejaVu Sans Mono',consolas,'Courier New',monospace\"><span style=\"font-weight: bold\"> Total params: </span><span style=\"color: #00af00; text-decoration-color: #00af00\">616</span> (2.41 KB)\n",
              "</pre>\n"
            ]
          },
          "metadata": {}
        },
        {
          "output_type": "display_data",
          "data": {
            "text/plain": [
              "\u001b[1m Trainable params: \u001b[0m\u001b[38;5;34m616\u001b[0m (2.41 KB)\n"
            ],
            "text/html": [
              "<pre style=\"white-space:pre;overflow-x:auto;line-height:normal;font-family:Menlo,'DejaVu Sans Mono',consolas,'Courier New',monospace\"><span style=\"font-weight: bold\"> Trainable params: </span><span style=\"color: #00af00; text-decoration-color: #00af00\">616</span> (2.41 KB)\n",
              "</pre>\n"
            ]
          },
          "metadata": {}
        },
        {
          "output_type": "display_data",
          "data": {
            "text/plain": [
              "\u001b[1m Non-trainable params: \u001b[0m\u001b[38;5;34m0\u001b[0m (0.00 B)\n"
            ],
            "text/html": [
              "<pre style=\"white-space:pre;overflow-x:auto;line-height:normal;font-family:Menlo,'DejaVu Sans Mono',consolas,'Courier New',monospace\"><span style=\"font-weight: bold\"> Non-trainable params: </span><span style=\"color: #00af00; text-decoration-color: #00af00\">0</span> (0.00 B)\n",
              "</pre>\n"
            ]
          },
          "metadata": {}
        }
      ],
      "source": [
        "def create_lstm(depth: int):\n",
        "\n",
        "  keras.backend.clear_session()  # pašaliname tarpinių modelių likučius\n",
        "  keras.utils.set_random_seed(812)\n",
        "\n",
        "  model = keras.Sequential(name='LSTM-based_lyrics_generator')\n",
        "  model.add(keras.layers.Input((2, 2)))\n",
        "  model.add(keras.layers.LSTM(4, return_sequences=True))\n",
        "  for i in range(depth):\n",
        "    model.add(keras.layers.LSTM(8, return_sequences=True)) # LSTM keisti GRU\n",
        "  model.add(keras.layers.LSTM(2, return_sequences=True))\n",
        "\n",
        "  model.compile(\n",
        "      optimizer=keras.optimizers.RMSprop(learning_rate=0.001),\n",
        "      loss='mse')\n",
        "\n",
        "  return model\n",
        "\n",
        "model = create_lstm(depth=1)\n",
        "model.summary()"
      ]
    },
    {
      "cell_type": "markdown",
      "metadata": {
        "id": "jW5BuckWfBaB"
      },
      "source": [
        "Turime **dviejų modelių sistemą**, todėl būtina parašyti funkcijas kad modeliai galėtų tarpusavyje bendrauti."
      ]
    },
    {
      "cell_type": "code",
      "execution_count": null,
      "metadata": {
        "colab": {
          "base_uri": "https://localhost:8080/"
        },
        "id": "HtOIBhYm6Sfr",
        "outputId": "790b34f4-01b7-4140-91e7-41727616777f"
      },
      "outputs": [
        {
          "output_type": "stream",
          "name": "stdout",
          "text": [
            "\u001b[1m1/1\u001b[0m \u001b[32m━━━━━━━━━━━━━━━━━━━━\u001b[0m\u001b[37m\u001b[0m \u001b[1m0s\u001b[0m 496ms/step\n",
            "\u001b[1m1/1\u001b[0m \u001b[32m━━━━━━━━━━━━━━━━━━━━\u001b[0m\u001b[37m\u001b[0m \u001b[1m0s\u001b[0m 21ms/step\n",
            "\u001b[1m1/1\u001b[0m \u001b[32m━━━━━━━━━━━━━━━━━━━━\u001b[0m\u001b[37m\u001b[0m \u001b[1m0s\u001b[0m 20ms/step\n",
            "\u001b[1m1/1\u001b[0m \u001b[32m━━━━━━━━━━━━━━━━━━━━\u001b[0m\u001b[37m\u001b[0m \u001b[1m0s\u001b[0m 19ms/step\n"
          ]
        },
        {
          "output_type": "execute_result",
          "data": {
            "text/plain": [
              "[\"when you're out of your brother in jail\",\n",
              " 'and now you do it for our children',\n",
              " \"i've been around the world in one day\",\n",
              " \"that girl i can't believe it you know it\",\n",
              " 'all i know that i must be out of school',\n",
              " 'everywhere you seem to get up and see',\n",
              " \"i know you'll be there yeah i will love you better\",\n",
              " 'now i believe you and it was love and romance']"
            ]
          },
          "metadata": {},
          "execution_count": 26
        }
      ],
      "source": [
        "def compose(starting_input: np.ndarray, rnn_model, n_line_groups: int):\n",
        "\tprev_vectors = starting_input\n",
        "\tfinal_vectors = []\n",
        "\tfor i in range(n_line_groups):\n",
        "\t\tfinal_vectors.append(rnn_model.predict(prev_vectors).flatten().reshape(1, 2, 2))\n",
        "\t\tprev_vectors = final_vectors[-1]\n",
        "\treturn final_vectors\n",
        "\n",
        "\n",
        "def last_word_compare(prev_lines: list[list[str]], new_line: list[str], penalty: float = 0.2) -> float:\n",
        "\tsum_penalty = 0.0\n",
        "\tfor line in prev_lines:\n",
        "\t\tif line[-1] == new_line[-1]:\n",
        "\t\t\tsum_penalty += penalty\n",
        "\treturn sum_penalty\n",
        "\n",
        "\n",
        "def calculate_score(features, n_syllables, rhyme, penalty: float, rhyme_list, maxsyllables):\n",
        "\tdesired_n_syllables = features[0] * maxsyllables\n",
        "\tdesired_rhyme = features[1] * len(rhyme_list)\n",
        "\tsyllable_score = - abs(float(desired_n_syllables) - float(n_syllables))\n",
        "\trhyme_score = abs(float(desired_rhyme) - float(rhyme))\n",
        "\tscore = 1.0 + syllable_score + rhyme_score - penalty\n",
        "\treturn score\n",
        "\n",
        "\n",
        "def vectors_into_song(vectors, generated_lyrics, rhyme_list, maxsyllables: int):\n",
        "\tsong = []\n",
        "\tgenerated_features = [get_line_features(x, rhyme_list) for x in generated_lyrics]\n",
        "\n",
        "\tvector_halves = []\n",
        "\tfor vector in vectors:\n",
        "\t\tvector_halves.extend(vector[0].tolist())\n",
        "\n",
        "\tfor vector in vector_halves:\n",
        "\t\tscorelist = []\n",
        "\n",
        "\t\tfor (line, n_syllables, rhyme) in generated_features:\n",
        "\t\t\tif len(song) != 0:\n",
        "\t\t\t\tpenalty = last_word_compare(song, line)\n",
        "\t\t\telse:\n",
        "\t\t\t\tpenalty = 0\n",
        "\n",
        "\t\t\ttotal_score = calculate_score(vector, n_syllables, rhyme, penalty, rhyme_list, maxsyllables)\n",
        "\t\t\tscorelist.append([line, total_score])\n",
        "\n",
        "\t\t# randame eilutę su aukščiausiu įvertinimu\n",
        "\t\tbest_line_index = np.argmax([float(x[1]) for x in scorelist])\n",
        "\t\tbest_line = scorelist[best_line_index][0]\n",
        "\t\tsong.append(best_line)\n",
        "\n",
        "\t\t# pašaliname šią eilutę iš likusių eilučių sąrašo\n",
        "\t\tgenerated_features = [x for x in generated_features if x[0] != best_line]\n",
        "\n",
        "\treturn [' '.join(x) for x in song]\n",
        "\n",
        "# kokie žodžiai bus sugeneruoti be modelio apmokymo?\n",
        "start = np.array([dataset[0][0]])\n",
        "vectors = compose(start, model, 4)\n",
        "some_lyrics = get_random_lines(markov_model, 20)\n",
        "vectors_into_song(vectors, some_lyrics, rhymes, maxsyllables=12)"
      ]
    },
    {
      "cell_type": "markdown",
      "metadata": {
        "id": "689lyYJCfLXz"
      },
      "source": [
        "## 6. Modelio apmokymas"
      ]
    },
    {
      "cell_type": "code",
      "execution_count": null,
      "metadata": {
        "colab": {
          "base_uri": "https://localhost:8080/"
        },
        "id": "vsOPxVmxfNsK",
        "outputId": "b9bf6809-e722-4cfd-fd59-238f3b648c7d"
      },
      "outputs": [
        {
          "output_type": "stream",
          "name": "stdout",
          "text": [
            "Epoch 1/2\n",
            "\u001b[1m4741/4741\u001b[0m \u001b[32m━━━━━━━━━━━━━━━━━━━━\u001b[0m\u001b[37m\u001b[0m \u001b[1m23s\u001b[0m 5ms/step - loss: 20.2757\n",
            "Epoch 2/2\n",
            "\u001b[1m4741/4741\u001b[0m \u001b[32m━━━━━━━━━━━━━━━━━━━━\u001b[0m\u001b[37m\u001b[0m \u001b[1m22s\u001b[0m 5ms/step - loss: 19.8891\n"
          ]
        },
        {
          "output_type": "execute_result",
          "data": {
            "text/plain": [
              "<keras.src.callbacks.history.History at 0x7c0656594070>"
            ]
          },
          "metadata": {},
          "execution_count": 28
        }
      ],
      "source": [
        "x_data, y_data = dataset\n",
        "\n",
        "model.fit(\n",
        "    x_data, y_data,\n",
        "    batch_size=2,\n",
        "    epochs=2\n",
        ")"
      ]
    },
    {
      "cell_type": "code",
      "execution_count": null,
      "metadata": {
        "colab": {
          "base_uri": "https://localhost:8080/"
        },
        "id": "BLByUoNUgRSQ",
        "outputId": "b00c0027-b34c-460f-efae-c37f44755783"
      },
      "outputs": [
        {
          "output_type": "stream",
          "name": "stdout",
          "text": [
            "\u001b[1m1/1\u001b[0m \u001b[32m━━━━━━━━━━━━━━━━━━━━\u001b[0m\u001b[37m\u001b[0m \u001b[1m0s\u001b[0m 21ms/step\n",
            "\u001b[1m1/1\u001b[0m \u001b[32m━━━━━━━━━━━━━━━━━━━━\u001b[0m\u001b[37m\u001b[0m \u001b[1m0s\u001b[0m 24ms/step\n",
            "\u001b[1m1/1\u001b[0m \u001b[32m━━━━━━━━━━━━━━━━━━━━\u001b[0m\u001b[37m\u001b[0m \u001b[1m0s\u001b[0m 21ms/step\n",
            "\u001b[1m1/1\u001b[0m \u001b[32m━━━━━━━━━━━━━━━━━━━━\u001b[0m\u001b[37m\u001b[0m \u001b[1m0s\u001b[0m 20ms/step\n"
          ]
        },
        {
          "output_type": "execute_result",
          "data": {
            "text/plain": [
              "['how does it seem like you to take me',\n",
              " 'that you said we were looking for the movie screen',\n",
              " \"we'd live a love that makes me want\",\n",
              " \"in despair we'll be a part of the disco tech\",\n",
              " 'as you live in your soul like a sparrow',\n",
              " 'you see i never let you down like a sparrow',\n",
              " 'let them all in the back',\n",
              " \"i'm gonna have to say you wouldn't do it like spit\"]"
            ]
          },
          "metadata": {},
          "execution_count": 29
        }
      ],
      "source": [
        "# kokie žodžiai bus sugeneruoti po modelio apmokymo?\n",
        "start = np.array([dataset[0][0]])\n",
        "vectors = compose(start, model, 4)\n",
        "some_lyrics = get_random_lines(markov_model, 20)\n",
        "vectors_into_song(vectors, some_lyrics, rhymes, maxsyllables=12)"
      ]
    },
    {
      "cell_type": "markdown",
      "metadata": {
        "id": "lAcjfK-zfNJ6"
      },
      "source": [
        "Sudedame viską į vientą vietą:"
      ]
    },
    {
      "cell_type": "code",
      "execution_count": null,
      "metadata": {
        "colab": {
          "base_uri": "https://localhost:8080/",
          "height": 911
        },
        "id": "esKvto25lXlL",
        "outputId": "6ced5f12-1827-483b-eb8a-5c62885f3c8d"
      },
      "outputs": [
        {
          "output_type": "stream",
          "name": "stdout",
          "text": [
            "Collected 206 rhymes\n"
          ]
        },
        {
          "output_type": "display_data",
          "data": {
            "text/plain": [
              "\u001b[1mModel: \"LSTM-based_lyrics_generator\"\u001b[0m\n"
            ],
            "text/html": [
              "<pre style=\"white-space:pre;overflow-x:auto;line-height:normal;font-family:Menlo,'DejaVu Sans Mono',consolas,'Courier New',monospace\"><span style=\"font-weight: bold\">Model: \"LSTM-based_lyrics_generator\"</span>\n",
              "</pre>\n"
            ]
          },
          "metadata": {}
        },
        {
          "output_type": "display_data",
          "data": {
            "text/plain": [
              "┏━━━━━━━━━━━━━━━━━━━━━━━━━━━━━━━━━━━━━━┳━━━━━━━━━━━━━━━━━━━━━━━━━━━━━┳━━━━━━━━━━━━━━━━━┓\n",
              "┃\u001b[1m \u001b[0m\u001b[1mLayer (type)                        \u001b[0m\u001b[1m \u001b[0m┃\u001b[1m \u001b[0m\u001b[1mOutput Shape               \u001b[0m\u001b[1m \u001b[0m┃\u001b[1m \u001b[0m\u001b[1m        Param #\u001b[0m\u001b[1m \u001b[0m┃\n",
              "┡━━━━━━━━━━━━━━━━━━━━━━━━━━━━━━━━━━━━━━╇━━━━━━━━━━━━━━━━━━━━━━━━━━━━━╇━━━━━━━━━━━━━━━━━┩\n",
              "│ lstm (\u001b[38;5;33mLSTM\u001b[0m)                          │ (\u001b[38;5;45mNone\u001b[0m, \u001b[38;5;34m2\u001b[0m, \u001b[38;5;34m4\u001b[0m)                │             \u001b[38;5;34m112\u001b[0m │\n",
              "├──────────────────────────────────────┼─────────────────────────────┼─────────────────┤\n",
              "│ lstm_1 (\u001b[38;5;33mLSTM\u001b[0m)                        │ (\u001b[38;5;45mNone\u001b[0m, \u001b[38;5;34m2\u001b[0m, \u001b[38;5;34m8\u001b[0m)                │             \u001b[38;5;34m416\u001b[0m │\n",
              "├──────────────────────────────────────┼─────────────────────────────┼─────────────────┤\n",
              "│ lstm_2 (\u001b[38;5;33mLSTM\u001b[0m)                        │ (\u001b[38;5;45mNone\u001b[0m, \u001b[38;5;34m2\u001b[0m, \u001b[38;5;34m8\u001b[0m)                │             \u001b[38;5;34m544\u001b[0m │\n",
              "├──────────────────────────────────────┼─────────────────────────────┼─────────────────┤\n",
              "│ lstm_3 (\u001b[38;5;33mLSTM\u001b[0m)                        │ (\u001b[38;5;45mNone\u001b[0m, \u001b[38;5;34m2\u001b[0m, \u001b[38;5;34m8\u001b[0m)                │             \u001b[38;5;34m544\u001b[0m │\n",
              "├──────────────────────────────────────┼─────────────────────────────┼─────────────────┤\n",
              "│ lstm_4 (\u001b[38;5;33mLSTM\u001b[0m)                        │ (\u001b[38;5;45mNone\u001b[0m, \u001b[38;5;34m2\u001b[0m, \u001b[38;5;34m8\u001b[0m)                │             \u001b[38;5;34m544\u001b[0m │\n",
              "├──────────────────────────────────────┼─────────────────────────────┼─────────────────┤\n",
              "│ lstm_5 (\u001b[38;5;33mLSTM\u001b[0m)                        │ (\u001b[38;5;45mNone\u001b[0m, \u001b[38;5;34m2\u001b[0m, \u001b[38;5;34m2\u001b[0m)                │              \u001b[38;5;34m88\u001b[0m │\n",
              "└──────────────────────────────────────┴─────────────────────────────┴─────────────────┘\n"
            ],
            "text/html": [
              "<pre style=\"white-space:pre;overflow-x:auto;line-height:normal;font-family:Menlo,'DejaVu Sans Mono',consolas,'Courier New',monospace\">┏━━━━━━━━━━━━━━━━━━━━━━━━━━━━━━━━━━━━━━┳━━━━━━━━━━━━━━━━━━━━━━━━━━━━━┳━━━━━━━━━━━━━━━━━┓\n",
              "┃<span style=\"font-weight: bold\"> Layer (type)                         </span>┃<span style=\"font-weight: bold\"> Output Shape                </span>┃<span style=\"font-weight: bold\">         Param # </span>┃\n",
              "┡━━━━━━━━━━━━━━━━━━━━━━━━━━━━━━━━━━━━━━╇━━━━━━━━━━━━━━━━━━━━━━━━━━━━━╇━━━━━━━━━━━━━━━━━┩\n",
              "│ lstm (<span style=\"color: #0087ff; text-decoration-color: #0087ff\">LSTM</span>)                          │ (<span style=\"color: #00d7ff; text-decoration-color: #00d7ff\">None</span>, <span style=\"color: #00af00; text-decoration-color: #00af00\">2</span>, <span style=\"color: #00af00; text-decoration-color: #00af00\">4</span>)                │             <span style=\"color: #00af00; text-decoration-color: #00af00\">112</span> │\n",
              "├──────────────────────────────────────┼─────────────────────────────┼─────────────────┤\n",
              "│ lstm_1 (<span style=\"color: #0087ff; text-decoration-color: #0087ff\">LSTM</span>)                        │ (<span style=\"color: #00d7ff; text-decoration-color: #00d7ff\">None</span>, <span style=\"color: #00af00; text-decoration-color: #00af00\">2</span>, <span style=\"color: #00af00; text-decoration-color: #00af00\">8</span>)                │             <span style=\"color: #00af00; text-decoration-color: #00af00\">416</span> │\n",
              "├──────────────────────────────────────┼─────────────────────────────┼─────────────────┤\n",
              "│ lstm_2 (<span style=\"color: #0087ff; text-decoration-color: #0087ff\">LSTM</span>)                        │ (<span style=\"color: #00d7ff; text-decoration-color: #00d7ff\">None</span>, <span style=\"color: #00af00; text-decoration-color: #00af00\">2</span>, <span style=\"color: #00af00; text-decoration-color: #00af00\">8</span>)                │             <span style=\"color: #00af00; text-decoration-color: #00af00\">544</span> │\n",
              "├──────────────────────────────────────┼─────────────────────────────┼─────────────────┤\n",
              "│ lstm_3 (<span style=\"color: #0087ff; text-decoration-color: #0087ff\">LSTM</span>)                        │ (<span style=\"color: #00d7ff; text-decoration-color: #00d7ff\">None</span>, <span style=\"color: #00af00; text-decoration-color: #00af00\">2</span>, <span style=\"color: #00af00; text-decoration-color: #00af00\">8</span>)                │             <span style=\"color: #00af00; text-decoration-color: #00af00\">544</span> │\n",
              "├──────────────────────────────────────┼─────────────────────────────┼─────────────────┤\n",
              "│ lstm_4 (<span style=\"color: #0087ff; text-decoration-color: #0087ff\">LSTM</span>)                        │ (<span style=\"color: #00d7ff; text-decoration-color: #00d7ff\">None</span>, <span style=\"color: #00af00; text-decoration-color: #00af00\">2</span>, <span style=\"color: #00af00; text-decoration-color: #00af00\">8</span>)                │             <span style=\"color: #00af00; text-decoration-color: #00af00\">544</span> │\n",
              "├──────────────────────────────────────┼─────────────────────────────┼─────────────────┤\n",
              "│ lstm_5 (<span style=\"color: #0087ff; text-decoration-color: #0087ff\">LSTM</span>)                        │ (<span style=\"color: #00d7ff; text-decoration-color: #00d7ff\">None</span>, <span style=\"color: #00af00; text-decoration-color: #00af00\">2</span>, <span style=\"color: #00af00; text-decoration-color: #00af00\">2</span>)                │              <span style=\"color: #00af00; text-decoration-color: #00af00\">88</span> │\n",
              "└──────────────────────────────────────┴─────────────────────────────┴─────────────────┘\n",
              "</pre>\n"
            ]
          },
          "metadata": {}
        },
        {
          "output_type": "display_data",
          "data": {
            "text/plain": [
              "\u001b[1m Total params: \u001b[0m\u001b[38;5;34m2,248\u001b[0m (8.78 KB)\n"
            ],
            "text/html": [
              "<pre style=\"white-space:pre;overflow-x:auto;line-height:normal;font-family:Menlo,'DejaVu Sans Mono',consolas,'Courier New',monospace\"><span style=\"font-weight: bold\"> Total params: </span><span style=\"color: #00af00; text-decoration-color: #00af00\">2,248</span> (8.78 KB)\n",
              "</pre>\n"
            ]
          },
          "metadata": {}
        },
        {
          "output_type": "display_data",
          "data": {
            "text/plain": [
              "\u001b[1m Trainable params: \u001b[0m\u001b[38;5;34m2,248\u001b[0m (8.78 KB)\n"
            ],
            "text/html": [
              "<pre style=\"white-space:pre;overflow-x:auto;line-height:normal;font-family:Menlo,'DejaVu Sans Mono',consolas,'Courier New',monospace\"><span style=\"font-weight: bold\"> Trainable params: </span><span style=\"color: #00af00; text-decoration-color: #00af00\">2,248</span> (8.78 KB)\n",
              "</pre>\n"
            ]
          },
          "metadata": {}
        },
        {
          "output_type": "display_data",
          "data": {
            "text/plain": [
              "\u001b[1m Non-trainable params: \u001b[0m\u001b[38;5;34m0\u001b[0m (0.00 B)\n"
            ],
            "text/html": [
              "<pre style=\"white-space:pre;overflow-x:auto;line-height:normal;font-family:Menlo,'DejaVu Sans Mono',consolas,'Courier New',monospace\"><span style=\"font-weight: bold\"> Non-trainable params: </span><span style=\"color: #00af00; text-decoration-color: #00af00\">0</span> (0.00 B)\n",
              "</pre>\n"
            ]
          },
          "metadata": {}
        },
        {
          "output_type": "stream",
          "name": "stdout",
          "text": [
            "None\n",
            "Epoch 1/10\n",
            "\u001b[1m2640/2640\u001b[0m \u001b[32m━━━━━━━━━━━━━━━━━━━━\u001b[0m\u001b[37m\u001b[0m \u001b[1m23s\u001b[0m 6ms/step - loss: 61.1819\n",
            "Epoch 2/10\n",
            "\u001b[1m2640/2640\u001b[0m \u001b[32m━━━━━━━━━━━━━━━━━━━━\u001b[0m\u001b[37m\u001b[0m \u001b[1m16s\u001b[0m 6ms/step - loss: 59.0713\n",
            "Epoch 3/10\n",
            "\u001b[1m2640/2640\u001b[0m \u001b[32m━━━━━━━━━━━━━━━━━━━━\u001b[0m\u001b[37m\u001b[0m \u001b[1m21s\u001b[0m 7ms/step - loss: 59.0712\n",
            "Epoch 4/10\n",
            "\u001b[1m2640/2640\u001b[0m \u001b[32m━━━━━━━━━━━━━━━━━━━━\u001b[0m\u001b[37m\u001b[0m \u001b[1m19s\u001b[0m 6ms/step - loss: 59.0712\n",
            "Epoch 5/10\n",
            "\u001b[1m2640/2640\u001b[0m \u001b[32m━━━━━━━━━━━━━━━━━━━━\u001b[0m\u001b[37m\u001b[0m \u001b[1m17s\u001b[0m 7ms/step - loss: 59.0712\n",
            "Epoch 6/10\n",
            "\u001b[1m2640/2640\u001b[0m \u001b[32m━━━━━━━━━━━━━━━━━━━━\u001b[0m\u001b[37m\u001b[0m \u001b[1m17s\u001b[0m 7ms/step - loss: 59.0712\n",
            "Epoch 7/10\n",
            "\u001b[1m2640/2640\u001b[0m \u001b[32m━━━━━━━━━━━━━━━━━━━━\u001b[0m\u001b[37m\u001b[0m \u001b[1m20s\u001b[0m 6ms/step - loss: 59.0712\n",
            "Epoch 8/10\n",
            "\u001b[1m2640/2640\u001b[0m \u001b[32m━━━━━━━━━━━━━━━━━━━━\u001b[0m\u001b[37m\u001b[0m \u001b[1m17s\u001b[0m 6ms/step - loss: 59.0712\n",
            "Epoch 9/10\n",
            "\u001b[1m2640/2640\u001b[0m \u001b[32m━━━━━━━━━━━━━━━━━━━━\u001b[0m\u001b[37m\u001b[0m \u001b[1m18s\u001b[0m 7ms/step - loss: 59.0712\n",
            "Epoch 10/10\n",
            "\u001b[1m2640/2640\u001b[0m \u001b[32m━━━━━━━━━━━━━━━━━━━━\u001b[0m\u001b[37m\u001b[0m \u001b[1m23s\u001b[0m 8ms/step - loss: 59.0712\n",
            "\u001b[1m1/1\u001b[0m \u001b[32m━━━━━━━━━━━━━━━━━━━━\u001b[0m\u001b[37m\u001b[0m \u001b[1m1s\u001b[0m 1s/step\n",
            "\u001b[1m1/1\u001b[0m \u001b[32m━━━━━━━━━━━━━━━━━━━━\u001b[0m\u001b[37m\u001b[0m \u001b[1m0s\u001b[0m 43ms/step\n",
            "\u001b[1m1/1\u001b[0m \u001b[32m━━━━━━━━━━━━━━━━━━━━\u001b[0m\u001b[37m\u001b[0m \u001b[1m0s\u001b[0m 44ms/step\n",
            "\u001b[1m1/1\u001b[0m \u001b[32m━━━━━━━━━━━━━━━━━━━━\u001b[0m\u001b[37m\u001b[0m \u001b[1m0s\u001b[0m 44ms/step\n"
          ]
        },
        {
          "output_type": "execute_result",
          "data": {
            "text/plain": [
              "['silly cat all suede in the mornin kick the war but they be mackin but they grabbed the nixga play pussy thats the nixga jd i was high when they stacks right',\n",
              " 'cause im a bad bad boy what you want nixga',\n",
              " 'going around the world fuck my friend bitch',\n",
              " 'but of course you know how i bring gun drama',\n",
              " 'sure do two s in your chains and your chaperon',\n",
              " 'gonja sensamelia can i do is touch ya',\n",
              " 'blows was thrown and a bag to put the g in game had the slow grooves on',\n",
              " 'wake up wake your ass kizzack i dont give a fuck']"
            ]
          },
          "metadata": {},
          "execution_count": 30
        }
      ],
      "source": [
        "artist_file = 'notorious-big.txt'\n",
        "with open(os.path.join(datapath, artist_file), 'r') as f:\n",
        "    raw_lyrics = f.read()\n",
        "\n",
        "markov_model = markovify.NewlineText(raw_lyrics)\n",
        "\n",
        "lyrics = [normalize_word_line(x) for x in raw_lyrics.splitlines()]\n",
        "lyrics = [x for x in lyrics if x]\n",
        "rhymes = get_rhyme_list(lyrics)\n",
        "print(f'Collected {len(rhymes)} rhymes')\n",
        "\n",
        "x_data, y_data = build_dataset(lyrics, rhymes)\n",
        "\n",
        "model = create_lstm(depth=4)\n",
        "print(model.summary())\n",
        "\n",
        "model.fit(\n",
        "    x_data, y_data,\n",
        "    batch_size=2,\n",
        "    epochs=10\n",
        ")\n",
        "\n",
        "start_i = np.random.choice(range(len(x_data)))\n",
        "start = np.array([x_data[start_i]])\n",
        "vectors = compose(start, model, 4)\n",
        "some_lyrics = get_random_lines(markov_model, 200)\n",
        "vectors_into_song(vectors, some_lyrics, rhymes, maxsyllables=12)"
      ]
    },
    {
      "cell_type": "markdown",
      "metadata": {
        "id": "an1V5eBjfv-O"
      },
      "source": []
    },
    {
      "cell_type": "markdown",
      "metadata": {
        "id": "a8K7sxDhYruJ"
      },
      "source": []
    },
    {
      "cell_type": "markdown",
      "metadata": {
        "id": "cCvrvPhBYrpJ"
      },
      "source": []
    }
  ],
  "metadata": {
    "colab": {
      "provenance": [],
      "include_colab_link": true
    },
    "kernelspec": {
      "display_name": "Python 3 (ipykernel)",
      "language": "python",
      "name": "python3"
    },
    "language_info": {
      "codemirror_mode": {
        "name": "ipython",
        "version": 3
      },
      "file_extension": ".py",
      "mimetype": "text/x-python",
      "name": "python",
      "nbconvert_exporter": "python",
      "pygments_lexer": "ipython3",
      "version": "3.12.2"
    }
  },
  "nbformat": 4,
  "nbformat_minor": 0
}