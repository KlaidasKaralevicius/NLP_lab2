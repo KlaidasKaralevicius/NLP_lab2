{
  "cells": [
    {
      "cell_type": "markdown",
      "metadata": {
        "id": "view-in-github",
        "colab_type": "text"
      },
      "source": [
        "<a href=\"https://colab.research.google.com/github/KlaidasKaralevicius/NLP_lab2/blob/main/lab2_Klaidas_Karalevicius.ipynb\" target=\"_parent\"><img src=\"https://colab.research.google.com/assets/colab-badge.svg\" alt=\"Open In Colab\"/></a>"
      ]
    },
    {
      "cell_type": "markdown",
      "source": [
        "# Dependencies"
      ],
      "metadata": {
        "id": "yBeTEicQERaE"
      }
    },
    {
      "cell_type": "code",
      "execution_count": 48,
      "metadata": {
        "id": "MJ3hHF_xAki1"
      },
      "outputs": [],
      "source": [
        "import os, re\n",
        "import numpy as np\n",
        "import pandas as pd\n",
        "from matplotlib import pyplot as plt\n",
        "import seaborn as sns\n",
        "import random\n",
        "from google.colab import files"
      ]
    },
    {
      "cell_type": "code",
      "execution_count": 49,
      "metadata": {
        "colab": {
          "base_uri": "https://localhost:8080/"
        },
        "id": "FDx_weZIvVjW",
        "outputId": "9aeca741-a255-447e-a0af-6bc9da0ec617"
      },
      "outputs": [
        {
          "output_type": "stream",
          "name": "stdout",
          "text": [
            "Keras version: 3.4.1\n"
          ]
        }
      ],
      "source": [
        "import keras\n",
        "print('Keras version:', keras.__version__)\n",
        "keras.utils.set_random_seed(266)\n",
        "random.seed(266)"
      ]
    },
    {
      "cell_type": "code",
      "execution_count": 50,
      "metadata": {
        "colab": {
          "base_uri": "https://localhost:8080/"
        },
        "id": "WEbn2P1U48L9",
        "outputId": "19317dce-f0c6-487c-b341-e9fe66b5c72f"
      },
      "outputs": [
        {
          "output_type": "stream",
          "name": "stdout",
          "text": [
            "Markovify version: 0.9.4\n"
          ]
        }
      ],
      "source": [
        "!pip install markovify -q\n",
        "import markovify\n",
        "print('Markovify version:', markovify.__version__)"
      ]
    },
    {
      "cell_type": "code",
      "source": [
        "!pip install num2words -q\n",
        "from num2words import num2words"
      ],
      "metadata": {
        "id": "WPuxfF7YXVb6"
      },
      "execution_count": 51,
      "outputs": []
    },
    {
      "cell_type": "code",
      "execution_count": 52,
      "metadata": {
        "colab": {
          "base_uri": "https://localhost:8080/"
        },
        "id": "e4EInEjV8htU",
        "outputId": "87a4f3eb-7ca9-4e69-c8e7-349a1660418a"
      },
      "outputs": [
        {
          "output_type": "stream",
          "name": "stdout",
          "text": [
            "Pronouncing version: 0.2.0\n"
          ]
        }
      ],
      "source": [
        "!pip install pronouncing -q\n",
        "import pronouncing\n",
        "print('Pronouncing version:', pronouncing.__version__)"
      ]
    },
    {
      "cell_type": "markdown",
      "source": [
        "# 1. Įkelti dainų tekstus\n",
        "\n",
        "Pakeitimas nr.1, įkeliami savo duomenys susidarantys iš apie 70 dainų ir 124676 simbolių."
      ],
      "metadata": {
        "id": "zRWmGfrbEcuk"
      }
    },
    {
      "cell_type": "code",
      "source": [
        "!wget https://raw.githubusercontent.com/KlaidasKaralevicius/NLP_lab2/refs/heads/main/Arknights.txt\n",
        "\n",
        "artist_file = 'Arknights.txt'\n",
        "with open(artist_file, 'r') as f:\n",
        "  lyrics = f.read()"
      ],
      "metadata": {
        "id": "n3mtOr4ZEcct",
        "collapsed": true
      },
      "execution_count": 55,
      "outputs": []
    },
    {
      "cell_type": "markdown",
      "source": [
        "# 2. Duomenų normalizavimas"
      ],
      "metadata": {
        "id": "xSNDoXHAdYej"
      }
    },
    {
      "cell_type": "markdown",
      "source": [
        "Normalizuojant duomenis papildomai išfiltruojami elementai tarp \"[ ]\" kartu su šiais skliausteliais. Išfiltruojami tokie elementai kaip: [x2], [Chorus], [Verse], [Pre-chorus]..."
      ],
      "metadata": {
        "id": "IU6z3y9eIlCg"
      }
    },
    {
      "cell_type": "code",
      "execution_count": 56,
      "metadata": {
        "id": "zt9z0Kyc_8X4"
      },
      "outputs": [],
      "source": [
        "def normalize_word_line(line: str) -> list[str]:\n",
        "  line = re.sub(r\"\\[.*?\\]\", \"\", line)\n",
        "  row = [x.lower() for x in re.findall(r\"\\w+'?\\w*\", line)]\n",
        "  new_row = []\n",
        "  for word in row:\n",
        "    numbers = re.findall(r\"\\d+\", word)\n",
        "    for n in numbers:\n",
        "      word = word.replace(n, num2words(int(n)))\n",
        "    new_row.append(word)\n",
        "  return new_row"
      ]
    },
    {
      "cell_type": "markdown",
      "source": [
        "# 3. Duomenų apdorojimas (word-embedding)\n",
        "\n"
      ],
      "metadata": {
        "id": "dtKajMqyUifW"
      }
    },
    {
      "cell_type": "code",
      "source": [],
      "metadata": {
        "id": "sPXH5l_nUx7V"
      },
      "execution_count": null,
      "outputs": []
    },
    {
      "cell_type": "markdown",
      "source": [
        "# 3. Markovo grandinės"
      ],
      "metadata": {
        "id": "hLmVEkg2kkk9"
      }
    },
    {
      "cell_type": "code",
      "source": [
        "markov_model = markovify.NewlineText(lyrics)"
      ],
      "metadata": {
        "id": "bIv3dbP3kksP"
      },
      "execution_count": 57,
      "outputs": []
    },
    {
      "cell_type": "markdown",
      "metadata": {
        "id": "n27GIbe598c3"
      },
      "source": [
        "# 4. Ritmo ištraukimas"
      ]
    },
    {
      "cell_type": "code",
      "execution_count": 58,
      "metadata": {
        "id": "pGA101F393i1"
      },
      "outputs": [],
      "source": [
        "def n_syllables(word_line: list[str]):\n",
        "    vowels = 'aeiouy'\n",
        "    syllable_count = 0\n",
        "\n",
        "    for word in word_line:\n",
        "        for i, char in enumerate(word):\n",
        "            if char in vowels:\n",
        "                if (i == 0) or (word[i-1] not in vowels):\n",
        "                    syllable_count += 1\n",
        "        word_vowels_count = sum([x in vowels for x in word])\n",
        "        if word_vowels_count == 0:\n",
        "            syllable_count = len(word)\n",
        "        elif word_vowels_count > 1 and (word[-1] == 'e') and (word[-2] not in vowels):\n",
        "            syllable_count -= 1\n",
        "\n",
        "    return syllable_count"
      ]
    },
    {
      "cell_type": "code",
      "execution_count": 59,
      "metadata": {
        "id": "_fwmgC_oSexs"
      },
      "outputs": [],
      "source": [
        "def get_rhyme(line: list[str]) -> str:\n",
        "    last_word = re.sub('\\W+', '', line[-1])\n",
        "    all_rhymes = pronouncing.rhymes(last_word)\n",
        "    if all_rhymes:\n",
        "        rhyming_ends = [x[-2:] for x in all_rhymes]\n",
        "        most_common_rhyme = max(set(rhyming_ends), key = rhyming_ends.count)\n",
        "    else:\n",
        "        most_common_rhyme = last_word[-2:]\n",
        "    return most_common_rhyme\n",
        "\n",
        "\n",
        "def get_rhyme_list(normalized_lyrics: list[list[str]]):\n",
        "  rhyme_set = set()\n",
        "  for row in normalized_lyrics:\n",
        "    most_common_rhyme = get_rhyme(row)\n",
        "    rhyme_set.add(most_common_rhyme)\n",
        "\n",
        "  sorted_rhyme_set = sorted(list(rhyme_set), key = lambda x: x[-1])\n",
        "  return sorted_rhyme_set"
      ]
    },
    {
      "cell_type": "markdown",
      "metadata": {
        "id": "hqrqD4NVfQvP"
      },
      "source": [
        "# 5. Duomenų rinkinio paruošimas"
      ]
    },
    {
      "cell_type": "code",
      "execution_count": 60,
      "metadata": {
        "id": "uPtBQstUfj43"
      },
      "outputs": [],
      "source": [
        "def get_rhyme_float(line: list[str], rhyme_list: list[str]) -> float | None:\n",
        "  rhyme = get_rhyme(line)\n",
        "  if rhyme in rhyme_list:\n",
        "    return rhyme_list.index(rhyme) / len(rhyme_list)\n",
        "  else:\n",
        "    return None"
      ]
    },
    {
      "cell_type": "code",
      "execution_count": 61,
      "metadata": {
        "id": "EVXYruyxSRwG"
      },
      "outputs": [],
      "source": [
        "def get_random_lines(markov_model, n_rows: int) -> list[list[str]]:\n",
        "  lines = []\n",
        "  last_words = []\n",
        "\n",
        "  while len(lines) < n_rows:\n",
        "    line = markov_model.make_sentence(max_overlap_ratio = .49, tries = 100)\n",
        "    if (line is not None) and (line not in lines):\n",
        "      last_word = normalize_word_line(line)[-1]\n",
        "      if last_words.count(last_word) < 3:\n",
        "        lines.append(normalize_word_line(line))\n",
        "        last_words.append(last_word)\n",
        "\n",
        "  return lines\n",
        "\n",
        "\n",
        "def get_line_features(line: list[str], rhyme_list: list[str]) -> tuple:\n",
        "  return (line, n_syllables(line), get_rhyme_float(line, rhyme_list)) # n_syllables(line) turi buti float ne int"
      ]
    },
    {
      "cell_type": "code",
      "source": [
        "test_lines = get_random_lines(markov_model, 2)\n",
        "for line in test_lines:\n",
        "  print(get_line_features(line, rhymes))"
      ],
      "metadata": {
        "id": "cApc_OxSkZ1J",
        "outputId": "882b61b1-3d6a-4fd9-95ba-4afcf3cfc2b2",
        "colab": {
          "base_uri": "https://localhost:8080/"
        }
      },
      "execution_count": 62,
      "outputs": [
        {
          "output_type": "stream",
          "name": "stdout",
          "text": [
            "(['if', 'i', 'ever', 'find', 'a', 'way', \"i'm\", 'still', 'upright'], 11, 0.14965986394557823)\n",
            "(['let', 'the', 'lightning', 'bolts', 'be', 'the', 'heat', 'in', 'your', 'heart', 'of', 'the', 'night'], 14, 0.14965986394557823)\n"
          ]
        }
      ]
    },
    {
      "cell_type": "code",
      "execution_count": null,
      "metadata": {
        "id": "CxeNDf7afRd1"
      },
      "outputs": [],
      "source": [
        "def build_dataset(lines: list[list[str]], rhyme_list: list[str]):\n",
        "\tfeatures = [get_line_features(x, rhyme_list) for x in lines]\n",
        "\tx_data, y_data = [], []\n",
        "\n",
        "\tfor i in range(len(features) - 3):\n",
        "\t\tline1, line2 = features[i    ][1:], features[i + 1][1:]\n",
        "\t\tline3, line4 = features[i + 2][1:], features[i + 3][1:]\n",
        "\t\tx_data.append(np.array([line1, line2]))\n",
        "\t\ty_data.append(np.array([line3, line4]))\n",
        "\treturn np.array(x_data), np.array(y_data)\n",
        "\n",
        "dataset = build_dataset(lyrics, rhymes)"
      ]
    },
    {
      "cell_type": "code",
      "execution_count": 68,
      "metadata": {
        "colab": {
          "base_uri": "https://localhost:8080/"
        },
        "id": "Sr_2xL_7Woko",
        "outputId": "c432c638-8106-4524-b45b-fa744a9af474"
      },
      "outputs": [
        {
          "output_type": "execute_result",
          "data": {
            "text/plain": [
              "(array([[1.0, 0.16326530612244897],\n",
              "        [1.0, 0.16326530612244897]], dtype=object),\n",
              " array([[1.0, 0.17687074829931973],\n",
              "        [1.0, 0.8707482993197279]], dtype=object))"
            ]
          },
          "metadata": {},
          "execution_count": 68
        }
      ],
      "source": [
        "len(dataset[0]), len(dataset[1])\n",
        "dataset[0][0], dataset[1][0]"
      ]
    },
    {
      "cell_type": "markdown",
      "metadata": {
        "id": "M65DDnrB1wa9"
      },
      "source": [
        "## 6. RNN modelio inicializavimas\n",
        "\n",
        "Pakeitimas nr.3, LTSM sluoksniai pakeičiami į GRU, pridedami dropout sluokniai ir pakeičiami neuronų kiekiai."
      ]
    },
    {
      "cell_type": "code",
      "execution_count": 64,
      "metadata": {
        "colab": {
          "base_uri": "https://localhost:8080/",
          "height": 374
        },
        "id": "oAMK9WWt11F-",
        "outputId": "9380a731-5d02-4937-cc90-4fbd328f3ce6"
      },
      "outputs": [
        {
          "output_type": "display_data",
          "data": {
            "text/plain": [
              "\u001b[1mModel: \"GRU-based_lyrics_generator\"\u001b[0m\n"
            ],
            "text/html": [
              "<pre style=\"white-space:pre;overflow-x:auto;line-height:normal;font-family:Menlo,'DejaVu Sans Mono',consolas,'Courier New',monospace\"><span style=\"font-weight: bold\">Model: \"GRU-based_lyrics_generator\"</span>\n",
              "</pre>\n"
            ]
          },
          "metadata": {}
        },
        {
          "output_type": "display_data",
          "data": {
            "text/plain": [
              "┏━━━━━━━━━━━━━━━━━━━━━━━━━━━━━━━━━━━━━━┳━━━━━━━━━━━━━━━━━━━━━━━━━━━━━┳━━━━━━━━━━━━━━━━━┓\n",
              "┃\u001b[1m \u001b[0m\u001b[1mLayer (type)                        \u001b[0m\u001b[1m \u001b[0m┃\u001b[1m \u001b[0m\u001b[1mOutput Shape               \u001b[0m\u001b[1m \u001b[0m┃\u001b[1m \u001b[0m\u001b[1m        Param #\u001b[0m\u001b[1m \u001b[0m┃\n",
              "┡━━━━━━━━━━━━━━━━━━━━━━━━━━━━━━━━━━━━━━╇━━━━━━━━━━━━━━━━━━━━━━━━━━━━━╇━━━━━━━━━━━━━━━━━┩\n",
              "│ gru (\u001b[38;5;33mGRU\u001b[0m)                            │ (\u001b[38;5;45mNone\u001b[0m, \u001b[38;5;34m2\u001b[0m, \u001b[38;5;34m6\u001b[0m)                │             \u001b[38;5;34m180\u001b[0m │\n",
              "├──────────────────────────────────────┼─────────────────────────────┼─────────────────┤\n",
              "│ dropout (\u001b[38;5;33mDropout\u001b[0m)                    │ (\u001b[38;5;45mNone\u001b[0m, \u001b[38;5;34m2\u001b[0m, \u001b[38;5;34m6\u001b[0m)                │               \u001b[38;5;34m0\u001b[0m │\n",
              "├──────────────────────────────────────┼─────────────────────────────┼─────────────────┤\n",
              "│ gru_1 (\u001b[38;5;33mGRU\u001b[0m)                          │ (\u001b[38;5;45mNone\u001b[0m, \u001b[38;5;34m2\u001b[0m, \u001b[38;5;34m8\u001b[0m)                │             \u001b[38;5;34m384\u001b[0m │\n",
              "├──────────────────────────────────────┼─────────────────────────────┼─────────────────┤\n",
              "│ dropout_1 (\u001b[38;5;33mDropout\u001b[0m)                  │ (\u001b[38;5;45mNone\u001b[0m, \u001b[38;5;34m2\u001b[0m, \u001b[38;5;34m8\u001b[0m)                │               \u001b[38;5;34m0\u001b[0m │\n",
              "├──────────────────────────────────────┼─────────────────────────────┼─────────────────┤\n",
              "│ gru_2 (\u001b[38;5;33mGRU\u001b[0m)                          │ (\u001b[38;5;45mNone\u001b[0m, \u001b[38;5;34m2\u001b[0m, \u001b[38;5;34m8\u001b[0m)                │             \u001b[38;5;34m432\u001b[0m │\n",
              "├──────────────────────────────────────┼─────────────────────────────┼─────────────────┤\n",
              "│ dropout_2 (\u001b[38;5;33mDropout\u001b[0m)                  │ (\u001b[38;5;45mNone\u001b[0m, \u001b[38;5;34m2\u001b[0m, \u001b[38;5;34m8\u001b[0m)                │               \u001b[38;5;34m0\u001b[0m │\n",
              "├──────────────────────────────────────┼─────────────────────────────┼─────────────────┤\n",
              "│ gru_3 (\u001b[38;5;33mGRU\u001b[0m)                          │ (\u001b[38;5;45mNone\u001b[0m, \u001b[38;5;34m2\u001b[0m, \u001b[38;5;34m2\u001b[0m)                │              \u001b[38;5;34m72\u001b[0m │\n",
              "└──────────────────────────────────────┴─────────────────────────────┴─────────────────┘\n"
            ],
            "text/html": [
              "<pre style=\"white-space:pre;overflow-x:auto;line-height:normal;font-family:Menlo,'DejaVu Sans Mono',consolas,'Courier New',monospace\">┏━━━━━━━━━━━━━━━━━━━━━━━━━━━━━━━━━━━━━━┳━━━━━━━━━━━━━━━━━━━━━━━━━━━━━┳━━━━━━━━━━━━━━━━━┓\n",
              "┃<span style=\"font-weight: bold\"> Layer (type)                         </span>┃<span style=\"font-weight: bold\"> Output Shape                </span>┃<span style=\"font-weight: bold\">         Param # </span>┃\n",
              "┡━━━━━━━━━━━━━━━━━━━━━━━━━━━━━━━━━━━━━━╇━━━━━━━━━━━━━━━━━━━━━━━━━━━━━╇━━━━━━━━━━━━━━━━━┩\n",
              "│ gru (<span style=\"color: #0087ff; text-decoration-color: #0087ff\">GRU</span>)                            │ (<span style=\"color: #00d7ff; text-decoration-color: #00d7ff\">None</span>, <span style=\"color: #00af00; text-decoration-color: #00af00\">2</span>, <span style=\"color: #00af00; text-decoration-color: #00af00\">6</span>)                │             <span style=\"color: #00af00; text-decoration-color: #00af00\">180</span> │\n",
              "├──────────────────────────────────────┼─────────────────────────────┼─────────────────┤\n",
              "│ dropout (<span style=\"color: #0087ff; text-decoration-color: #0087ff\">Dropout</span>)                    │ (<span style=\"color: #00d7ff; text-decoration-color: #00d7ff\">None</span>, <span style=\"color: #00af00; text-decoration-color: #00af00\">2</span>, <span style=\"color: #00af00; text-decoration-color: #00af00\">6</span>)                │               <span style=\"color: #00af00; text-decoration-color: #00af00\">0</span> │\n",
              "├──────────────────────────────────────┼─────────────────────────────┼─────────────────┤\n",
              "│ gru_1 (<span style=\"color: #0087ff; text-decoration-color: #0087ff\">GRU</span>)                          │ (<span style=\"color: #00d7ff; text-decoration-color: #00d7ff\">None</span>, <span style=\"color: #00af00; text-decoration-color: #00af00\">2</span>, <span style=\"color: #00af00; text-decoration-color: #00af00\">8</span>)                │             <span style=\"color: #00af00; text-decoration-color: #00af00\">384</span> │\n",
              "├──────────────────────────────────────┼─────────────────────────────┼─────────────────┤\n",
              "│ dropout_1 (<span style=\"color: #0087ff; text-decoration-color: #0087ff\">Dropout</span>)                  │ (<span style=\"color: #00d7ff; text-decoration-color: #00d7ff\">None</span>, <span style=\"color: #00af00; text-decoration-color: #00af00\">2</span>, <span style=\"color: #00af00; text-decoration-color: #00af00\">8</span>)                │               <span style=\"color: #00af00; text-decoration-color: #00af00\">0</span> │\n",
              "├──────────────────────────────────────┼─────────────────────────────┼─────────────────┤\n",
              "│ gru_2 (<span style=\"color: #0087ff; text-decoration-color: #0087ff\">GRU</span>)                          │ (<span style=\"color: #00d7ff; text-decoration-color: #00d7ff\">None</span>, <span style=\"color: #00af00; text-decoration-color: #00af00\">2</span>, <span style=\"color: #00af00; text-decoration-color: #00af00\">8</span>)                │             <span style=\"color: #00af00; text-decoration-color: #00af00\">432</span> │\n",
              "├──────────────────────────────────────┼─────────────────────────────┼─────────────────┤\n",
              "│ dropout_2 (<span style=\"color: #0087ff; text-decoration-color: #0087ff\">Dropout</span>)                  │ (<span style=\"color: #00d7ff; text-decoration-color: #00d7ff\">None</span>, <span style=\"color: #00af00; text-decoration-color: #00af00\">2</span>, <span style=\"color: #00af00; text-decoration-color: #00af00\">8</span>)                │               <span style=\"color: #00af00; text-decoration-color: #00af00\">0</span> │\n",
              "├──────────────────────────────────────┼─────────────────────────────┼─────────────────┤\n",
              "│ gru_3 (<span style=\"color: #0087ff; text-decoration-color: #0087ff\">GRU</span>)                          │ (<span style=\"color: #00d7ff; text-decoration-color: #00d7ff\">None</span>, <span style=\"color: #00af00; text-decoration-color: #00af00\">2</span>, <span style=\"color: #00af00; text-decoration-color: #00af00\">2</span>)                │              <span style=\"color: #00af00; text-decoration-color: #00af00\">72</span> │\n",
              "└──────────────────────────────────────┴─────────────────────────────┴─────────────────┘\n",
              "</pre>\n"
            ]
          },
          "metadata": {}
        },
        {
          "output_type": "display_data",
          "data": {
            "text/plain": [
              "\u001b[1m Total params: \u001b[0m\u001b[38;5;34m1,068\u001b[0m (4.17 KB)\n"
            ],
            "text/html": [
              "<pre style=\"white-space:pre;overflow-x:auto;line-height:normal;font-family:Menlo,'DejaVu Sans Mono',consolas,'Courier New',monospace\"><span style=\"font-weight: bold\"> Total params: </span><span style=\"color: #00af00; text-decoration-color: #00af00\">1,068</span> (4.17 KB)\n",
              "</pre>\n"
            ]
          },
          "metadata": {}
        },
        {
          "output_type": "display_data",
          "data": {
            "text/plain": [
              "\u001b[1m Trainable params: \u001b[0m\u001b[38;5;34m1,068\u001b[0m (4.17 KB)\n"
            ],
            "text/html": [
              "<pre style=\"white-space:pre;overflow-x:auto;line-height:normal;font-family:Menlo,'DejaVu Sans Mono',consolas,'Courier New',monospace\"><span style=\"font-weight: bold\"> Trainable params: </span><span style=\"color: #00af00; text-decoration-color: #00af00\">1,068</span> (4.17 KB)\n",
              "</pre>\n"
            ]
          },
          "metadata": {}
        },
        {
          "output_type": "display_data",
          "data": {
            "text/plain": [
              "\u001b[1m Non-trainable params: \u001b[0m\u001b[38;5;34m0\u001b[0m (0.00 B)\n"
            ],
            "text/html": [
              "<pre style=\"white-space:pre;overflow-x:auto;line-height:normal;font-family:Menlo,'DejaVu Sans Mono',consolas,'Courier New',monospace\"><span style=\"font-weight: bold\"> Non-trainable params: </span><span style=\"color: #00af00; text-decoration-color: #00af00\">0</span> (0.00 B)\n",
              "</pre>\n"
            ]
          },
          "metadata": {}
        }
      ],
      "source": [
        "def create_gru(depth: int):\n",
        "  keras.backend.clear_session()\n",
        "  keras.utils.set_random_seed(266)\n",
        "\n",
        "  model = keras.Sequential(name = 'GRU-based_lyrics_generator')\n",
        "  model.add(keras.layers.Input((2, 2)))\n",
        "  model.add(keras.layers.GRU(6, return_sequences = True))\n",
        "  model.add(keras.layers.Dropout(0.5))\n",
        "  for i in range(depth):\n",
        "    model.add(keras.layers.GRU(8, return_sequences = True))\n",
        "    model.add(keras.layers.Dropout(0.5))\n",
        "  model.add(keras.layers.GRU(2, return_sequences = True))\n",
        "\n",
        "  model.compile(optimizer = keras.optimizers.RMSprop(learning_rate = 0.001),\n",
        "                loss = 'mse')\n",
        "\n",
        "  return model\n",
        "\n",
        "model = create_gru(depth = 2)\n",
        "model.summary()"
      ]
    },
    {
      "cell_type": "code",
      "execution_count": 65,
      "metadata": {
        "id": "HtOIBhYm6Sfr"
      },
      "outputs": [],
      "source": [
        "def compose(starting_input: np.ndarray, rnn_model, n_line_groups: int):\n",
        "\tprev_vectors = starting_input\n",
        "\tfinal_vectors = []\n",
        "\tfor i in range(n_line_groups):\n",
        "\t\tfinal_vectors.append(rnn_model.predict(prev_vectors).flatten().reshape(1, 2, 2))\n",
        "\t\tprev_vectors = final_vectors[-1]\n",
        "\treturn final_vectors\n",
        "\n",
        "\n",
        "def last_word_compare(prev_lines: list[list[str]], new_line: list[str], penalty: float = 0.2) -> float:\n",
        "\tsum_penalty = 0.0\n",
        "\tfor line in prev_lines:\n",
        "\t\tif line[-1] == new_line[-1]:\n",
        "\t\t\tsum_penalty += penalty\n",
        "\treturn sum_penalty\n",
        "\n",
        "\n",
        "def calculate_score(features, n_syllables, rhyme, penalty: float, rhyme_list, maxsyllables):\n",
        "\tdesired_n_syllables = features[0] * maxsyllables\n",
        "\tdesired_rhyme = features[1] * len(rhyme_list)\n",
        "\tsyllable_score = - abs(float(desired_n_syllables) - float(n_syllables))\n",
        "\trhyme_score = abs(float(desired_rhyme) - float(rhyme))\n",
        "\tscore = 1.0 + syllable_score + rhyme_score - penalty\n",
        "\treturn score\n",
        "\n",
        "\n",
        "def vectors_into_song(vectors, generated_lyrics, rhyme_list, maxsyllables: int):\n",
        "\tsong = []\n",
        "\tgenerated_features = [get_line_features(x, rhyme_list) for x in generated_lyrics]\n",
        "\n",
        "\tvector_halves = []\n",
        "\tfor vector in vectors:\n",
        "\t\tvector_halves.extend(vector[0].tolist())\n",
        "\n",
        "\tfor vector in vector_halves:\n",
        "\t\tscorelist = []\n",
        "\n",
        "\t\tfor (line, n_syllables, rhyme) in generated_features:\n",
        "\t\t\tif len(song) != 0:\n",
        "\t\t\t\tpenalty = last_word_compare(song, line)\n",
        "\t\t\telse:\n",
        "\t\t\t\tpenalty = 0\n",
        "\n",
        "\t\t\ttotal_score = calculate_score(vector, n_syllables, rhyme, penalty, rhyme_list, maxsyllables)\n",
        "\t\t\tscorelist.append([line, total_score])\n",
        "\n",
        "\t\tbest_line_index = np.argmax([float(x[1]) for x in scorelist])\n",
        "\t\tbest_line = scorelist[best_line_index][0]\n",
        "\t\tsong.append(best_line)\n",
        "\n",
        "\t\tgenerated_features = [x for x in generated_features if x[0] != best_line]\n",
        "\n",
        "\treturn [' '.join(x) for x in song]"
      ]
    },
    {
      "cell_type": "code",
      "source": [
        "start = np.array([dataset[0][0]])\n",
        "vectors = compose(start, model, 4)\n",
        "some_lyrics = get_random_lines(markov_model, 20)\n",
        "vectors_into_song(vectors, some_lyrics, rhymes, maxsyllables=12)"
      ],
      "metadata": {
        "id": "bqASxqOdE2Tr",
        "outputId": "f41e5574-a319-4856-9d6e-70e2a196e3dd",
        "colab": {
          "base_uri": "https://localhost:8080/",
          "height": 339
        }
      },
      "execution_count": 66,
      "outputs": [
        {
          "output_type": "error",
          "ename": "ValueError",
          "evalue": "Failed to convert a NumPy array to a Tensor (Unsupported object type float).",
          "traceback": [
            "\u001b[0;31m---------------------------------------------------------------------------\u001b[0m",
            "\u001b[0;31mValueError\u001b[0m                                Traceback (most recent call last)",
            "\u001b[0;32m<ipython-input-66-f55b4fa93737>\u001b[0m in \u001b[0;36m<cell line: 2>\u001b[0;34m()\u001b[0m\n\u001b[1;32m      1\u001b[0m \u001b[0mstart\u001b[0m \u001b[0;34m=\u001b[0m \u001b[0mnp\u001b[0m\u001b[0;34m.\u001b[0m\u001b[0marray\u001b[0m\u001b[0;34m(\u001b[0m\u001b[0;34m[\u001b[0m\u001b[0mdataset\u001b[0m\u001b[0;34m[\u001b[0m\u001b[0;36m0\u001b[0m\u001b[0;34m]\u001b[0m\u001b[0;34m[\u001b[0m\u001b[0;36m0\u001b[0m\u001b[0;34m]\u001b[0m\u001b[0;34m]\u001b[0m\u001b[0;34m)\u001b[0m\u001b[0;34m\u001b[0m\u001b[0;34m\u001b[0m\u001b[0m\n\u001b[0;32m----> 2\u001b[0;31m \u001b[0mvectors\u001b[0m \u001b[0;34m=\u001b[0m \u001b[0mcompose\u001b[0m\u001b[0;34m(\u001b[0m\u001b[0mstart\u001b[0m\u001b[0;34m,\u001b[0m \u001b[0mmodel\u001b[0m\u001b[0;34m,\u001b[0m \u001b[0;36m4\u001b[0m\u001b[0;34m)\u001b[0m\u001b[0;34m\u001b[0m\u001b[0;34m\u001b[0m\u001b[0m\n\u001b[0m\u001b[1;32m      3\u001b[0m \u001b[0msome_lyrics\u001b[0m \u001b[0;34m=\u001b[0m \u001b[0mget_random_lines\u001b[0m\u001b[0;34m(\u001b[0m\u001b[0mmarkov_model\u001b[0m\u001b[0;34m,\u001b[0m \u001b[0;36m20\u001b[0m\u001b[0;34m)\u001b[0m\u001b[0;34m\u001b[0m\u001b[0;34m\u001b[0m\u001b[0m\n\u001b[1;32m      4\u001b[0m \u001b[0mvectors_into_song\u001b[0m\u001b[0;34m(\u001b[0m\u001b[0mvectors\u001b[0m\u001b[0;34m,\u001b[0m \u001b[0msome_lyrics\u001b[0m\u001b[0;34m,\u001b[0m \u001b[0mrhymes\u001b[0m\u001b[0;34m,\u001b[0m \u001b[0mmaxsyllables\u001b[0m\u001b[0;34m=\u001b[0m\u001b[0;36m12\u001b[0m\u001b[0;34m)\u001b[0m\u001b[0;34m\u001b[0m\u001b[0;34m\u001b[0m\u001b[0m\n",
            "\u001b[0;32m<ipython-input-65-b462e6b3d373>\u001b[0m in \u001b[0;36mcompose\u001b[0;34m(starting_input, rnn_model, n_line_groups)\u001b[0m\n\u001b[1;32m      3\u001b[0m         \u001b[0mfinal_vectors\u001b[0m \u001b[0;34m=\u001b[0m \u001b[0;34m[\u001b[0m\u001b[0;34m]\u001b[0m\u001b[0;34m\u001b[0m\u001b[0;34m\u001b[0m\u001b[0m\n\u001b[1;32m      4\u001b[0m         \u001b[0;32mfor\u001b[0m \u001b[0mi\u001b[0m \u001b[0;32min\u001b[0m \u001b[0mrange\u001b[0m\u001b[0;34m(\u001b[0m\u001b[0mn_line_groups\u001b[0m\u001b[0;34m)\u001b[0m\u001b[0;34m:\u001b[0m\u001b[0;34m\u001b[0m\u001b[0;34m\u001b[0m\u001b[0m\n\u001b[0;32m----> 5\u001b[0;31m                 \u001b[0mfinal_vectors\u001b[0m\u001b[0;34m.\u001b[0m\u001b[0mappend\u001b[0m\u001b[0;34m(\u001b[0m\u001b[0mrnn_model\u001b[0m\u001b[0;34m.\u001b[0m\u001b[0mpredict\u001b[0m\u001b[0;34m(\u001b[0m\u001b[0mprev_vectors\u001b[0m\u001b[0;34m)\u001b[0m\u001b[0;34m.\u001b[0m\u001b[0mflatten\u001b[0m\u001b[0;34m(\u001b[0m\u001b[0;34m)\u001b[0m\u001b[0;34m.\u001b[0m\u001b[0mreshape\u001b[0m\u001b[0;34m(\u001b[0m\u001b[0;36m1\u001b[0m\u001b[0;34m,\u001b[0m \u001b[0;36m2\u001b[0m\u001b[0;34m,\u001b[0m \u001b[0;36m2\u001b[0m\u001b[0;34m)\u001b[0m\u001b[0;34m)\u001b[0m\u001b[0;34m\u001b[0m\u001b[0;34m\u001b[0m\u001b[0m\n\u001b[0m\u001b[1;32m      6\u001b[0m                 \u001b[0mprev_vectors\u001b[0m \u001b[0;34m=\u001b[0m \u001b[0mfinal_vectors\u001b[0m\u001b[0;34m[\u001b[0m\u001b[0;34m-\u001b[0m\u001b[0;36m1\u001b[0m\u001b[0;34m]\u001b[0m\u001b[0;34m\u001b[0m\u001b[0;34m\u001b[0m\u001b[0m\n\u001b[1;32m      7\u001b[0m         \u001b[0;32mreturn\u001b[0m \u001b[0mfinal_vectors\u001b[0m\u001b[0;34m\u001b[0m\u001b[0;34m\u001b[0m\u001b[0m\n",
            "\u001b[0;32m/usr/local/lib/python3.10/dist-packages/keras/src/utils/traceback_utils.py\u001b[0m in \u001b[0;36merror_handler\u001b[0;34m(*args, **kwargs)\u001b[0m\n\u001b[1;32m    120\u001b[0m             \u001b[0;31m# To get the full stack trace, call:\u001b[0m\u001b[0;34m\u001b[0m\u001b[0;34m\u001b[0m\u001b[0m\n\u001b[1;32m    121\u001b[0m             \u001b[0;31m# `keras.config.disable_traceback_filtering()`\u001b[0m\u001b[0;34m\u001b[0m\u001b[0;34m\u001b[0m\u001b[0m\n\u001b[0;32m--> 122\u001b[0;31m             \u001b[0;32mraise\u001b[0m \u001b[0me\u001b[0m\u001b[0;34m.\u001b[0m\u001b[0mwith_traceback\u001b[0m\u001b[0;34m(\u001b[0m\u001b[0mfiltered_tb\u001b[0m\u001b[0;34m)\u001b[0m \u001b[0;32mfrom\u001b[0m \u001b[0;32mNone\u001b[0m\u001b[0;34m\u001b[0m\u001b[0;34m\u001b[0m\u001b[0m\n\u001b[0m\u001b[1;32m    123\u001b[0m         \u001b[0;32mfinally\u001b[0m\u001b[0;34m:\u001b[0m\u001b[0;34m\u001b[0m\u001b[0;34m\u001b[0m\u001b[0m\n\u001b[1;32m    124\u001b[0m             \u001b[0;32mdel\u001b[0m \u001b[0mfiltered_tb\u001b[0m\u001b[0;34m\u001b[0m\u001b[0;34m\u001b[0m\u001b[0m\n",
            "\u001b[0;32m/usr/local/lib/python3.10/dist-packages/tensorflow/python/framework/constant_op.py\u001b[0m in \u001b[0;36mconvert_to_eager_tensor\u001b[0;34m(value, ctx, dtype)\u001b[0m\n\u001b[1;32m    106\u001b[0m       \u001b[0mdtype\u001b[0m \u001b[0;34m=\u001b[0m \u001b[0mdtypes\u001b[0m\u001b[0;34m.\u001b[0m\u001b[0mas_dtype\u001b[0m\u001b[0;34m(\u001b[0m\u001b[0mdtype\u001b[0m\u001b[0;34m)\u001b[0m\u001b[0;34m.\u001b[0m\u001b[0mas_datatype_enum\u001b[0m\u001b[0;34m\u001b[0m\u001b[0;34m\u001b[0m\u001b[0m\n\u001b[1;32m    107\u001b[0m   \u001b[0mctx\u001b[0m\u001b[0;34m.\u001b[0m\u001b[0mensure_initialized\u001b[0m\u001b[0;34m(\u001b[0m\u001b[0;34m)\u001b[0m\u001b[0;34m\u001b[0m\u001b[0;34m\u001b[0m\u001b[0m\n\u001b[0;32m--> 108\u001b[0;31m   \u001b[0;32mreturn\u001b[0m \u001b[0mops\u001b[0m\u001b[0;34m.\u001b[0m\u001b[0mEagerTensor\u001b[0m\u001b[0;34m(\u001b[0m\u001b[0mvalue\u001b[0m\u001b[0;34m,\u001b[0m \u001b[0mctx\u001b[0m\u001b[0;34m.\u001b[0m\u001b[0mdevice_name\u001b[0m\u001b[0;34m,\u001b[0m \u001b[0mdtype\u001b[0m\u001b[0;34m)\u001b[0m\u001b[0;34m\u001b[0m\u001b[0;34m\u001b[0m\u001b[0m\n\u001b[0m\u001b[1;32m    109\u001b[0m \u001b[0;34m\u001b[0m\u001b[0m\n\u001b[1;32m    110\u001b[0m \u001b[0;34m\u001b[0m\u001b[0m\n",
            "\u001b[0;31mValueError\u001b[0m: Failed to convert a NumPy array to a Tensor (Unsupported object type float)."
          ]
        }
      ]
    },
    {
      "cell_type": "markdown",
      "metadata": {
        "id": "689lyYJCfLXz"
      },
      "source": [
        "## 7. Modelio apmokymas"
      ]
    },
    {
      "cell_type": "code",
      "execution_count": 67,
      "metadata": {
        "colab": {
          "base_uri": "https://localhost:8080/",
          "height": 356
        },
        "id": "vsOPxVmxfNsK",
        "outputId": "5166315d-61a7-48f1-9716-b98e2700e1f9"
      },
      "outputs": [
        {
          "output_type": "error",
          "ename": "ValueError",
          "evalue": "Failed to convert a NumPy array to a Tensor (Unsupported object type float).",
          "traceback": [
            "\u001b[0;31m---------------------------------------------------------------------------\u001b[0m",
            "\u001b[0;31mValueError\u001b[0m                                Traceback (most recent call last)",
            "\u001b[0;32m<ipython-input-67-9df8123d83bb>\u001b[0m in \u001b[0;36m<cell line: 3>\u001b[0;34m()\u001b[0m\n\u001b[1;32m      1\u001b[0m \u001b[0mx_data\u001b[0m\u001b[0;34m,\u001b[0m \u001b[0my_data\u001b[0m \u001b[0;34m=\u001b[0m \u001b[0mdataset\u001b[0m\u001b[0;34m\u001b[0m\u001b[0;34m\u001b[0m\u001b[0m\n\u001b[1;32m      2\u001b[0m \u001b[0;34m\u001b[0m\u001b[0m\n\u001b[0;32m----> 3\u001b[0;31m model.fit(\n\u001b[0m\u001b[1;32m      4\u001b[0m     \u001b[0mx_data\u001b[0m\u001b[0;34m,\u001b[0m \u001b[0my_data\u001b[0m\u001b[0;34m,\u001b[0m\u001b[0;34m\u001b[0m\u001b[0;34m\u001b[0m\u001b[0m\n\u001b[1;32m      5\u001b[0m     \u001b[0mbatch_size\u001b[0m \u001b[0;34m=\u001b[0m \u001b[0;36m2\u001b[0m\u001b[0;34m,\u001b[0m\u001b[0;34m\u001b[0m\u001b[0;34m\u001b[0m\u001b[0m\n",
            "\u001b[0;32m/usr/local/lib/python3.10/dist-packages/keras/src/utils/traceback_utils.py\u001b[0m in \u001b[0;36merror_handler\u001b[0;34m(*args, **kwargs)\u001b[0m\n\u001b[1;32m    120\u001b[0m             \u001b[0;31m# To get the full stack trace, call:\u001b[0m\u001b[0;34m\u001b[0m\u001b[0;34m\u001b[0m\u001b[0m\n\u001b[1;32m    121\u001b[0m             \u001b[0;31m# `keras.config.disable_traceback_filtering()`\u001b[0m\u001b[0;34m\u001b[0m\u001b[0;34m\u001b[0m\u001b[0m\n\u001b[0;32m--> 122\u001b[0;31m             \u001b[0;32mraise\u001b[0m \u001b[0me\u001b[0m\u001b[0;34m.\u001b[0m\u001b[0mwith_traceback\u001b[0m\u001b[0;34m(\u001b[0m\u001b[0mfiltered_tb\u001b[0m\u001b[0;34m)\u001b[0m \u001b[0;32mfrom\u001b[0m \u001b[0;32mNone\u001b[0m\u001b[0;34m\u001b[0m\u001b[0;34m\u001b[0m\u001b[0m\n\u001b[0m\u001b[1;32m    123\u001b[0m         \u001b[0;32mfinally\u001b[0m\u001b[0;34m:\u001b[0m\u001b[0;34m\u001b[0m\u001b[0;34m\u001b[0m\u001b[0m\n\u001b[1;32m    124\u001b[0m             \u001b[0;32mdel\u001b[0m \u001b[0mfiltered_tb\u001b[0m\u001b[0;34m\u001b[0m\u001b[0;34m\u001b[0m\u001b[0m\n",
            "\u001b[0;32m/usr/local/lib/python3.10/dist-packages/tensorflow/python/framework/constant_op.py\u001b[0m in \u001b[0;36mconvert_to_eager_tensor\u001b[0;34m(value, ctx, dtype)\u001b[0m\n\u001b[1;32m    106\u001b[0m       \u001b[0mdtype\u001b[0m \u001b[0;34m=\u001b[0m \u001b[0mdtypes\u001b[0m\u001b[0;34m.\u001b[0m\u001b[0mas_dtype\u001b[0m\u001b[0;34m(\u001b[0m\u001b[0mdtype\u001b[0m\u001b[0;34m)\u001b[0m\u001b[0;34m.\u001b[0m\u001b[0mas_datatype_enum\u001b[0m\u001b[0;34m\u001b[0m\u001b[0;34m\u001b[0m\u001b[0m\n\u001b[1;32m    107\u001b[0m   \u001b[0mctx\u001b[0m\u001b[0;34m.\u001b[0m\u001b[0mensure_initialized\u001b[0m\u001b[0;34m(\u001b[0m\u001b[0;34m)\u001b[0m\u001b[0;34m\u001b[0m\u001b[0;34m\u001b[0m\u001b[0m\n\u001b[0;32m--> 108\u001b[0;31m   \u001b[0;32mreturn\u001b[0m \u001b[0mops\u001b[0m\u001b[0;34m.\u001b[0m\u001b[0mEagerTensor\u001b[0m\u001b[0;34m(\u001b[0m\u001b[0mvalue\u001b[0m\u001b[0;34m,\u001b[0m \u001b[0mctx\u001b[0m\u001b[0;34m.\u001b[0m\u001b[0mdevice_name\u001b[0m\u001b[0;34m,\u001b[0m \u001b[0mdtype\u001b[0m\u001b[0;34m)\u001b[0m\u001b[0;34m\u001b[0m\u001b[0;34m\u001b[0m\u001b[0m\n\u001b[0m\u001b[1;32m    109\u001b[0m \u001b[0;34m\u001b[0m\u001b[0m\n\u001b[1;32m    110\u001b[0m \u001b[0;34m\u001b[0m\u001b[0m\n",
            "\u001b[0;31mValueError\u001b[0m: Failed to convert a NumPy array to a Tensor (Unsupported object type float)."
          ]
        }
      ],
      "source": [
        "x_data, y_data = dataset\n",
        "\n",
        "model.fit(\n",
        "    x_data, y_data,\n",
        "    batch_size = 2,\n",
        "    epochs = 3\n",
        ")"
      ]
    },
    {
      "cell_type": "markdown",
      "source": [
        "# 8. Modelio testavimas"
      ],
      "metadata": {
        "id": "7GAipu9kG8oE"
      }
    },
    {
      "cell_type": "code",
      "execution_count": 47,
      "metadata": {
        "colab": {
          "base_uri": "https://localhost:8080/"
        },
        "id": "BLByUoNUgRSQ",
        "outputId": "6b56c72e-bdd2-416b-a432-944df3ad668d"
      },
      "outputs": [
        {
          "output_type": "stream",
          "name": "stdout",
          "text": [
            "\u001b[1m1/1\u001b[0m \u001b[32m━━━━━━━━━━━━━━━━━━━━\u001b[0m\u001b[37m\u001b[0m \u001b[1m1s\u001b[0m 602ms/step\n",
            "\u001b[1m1/1\u001b[0m \u001b[32m━━━━━━━━━━━━━━━━━━━━\u001b[0m\u001b[37m\u001b[0m \u001b[1m0s\u001b[0m 19ms/step\n",
            "\u001b[1m1/1\u001b[0m \u001b[32m━━━━━━━━━━━━━━━━━━━━\u001b[0m\u001b[37m\u001b[0m \u001b[1m0s\u001b[0m 21ms/step\n",
            "\u001b[1m1/1\u001b[0m \u001b[32m━━━━━━━━━━━━━━━━━━━━\u001b[0m\u001b[37m\u001b[0m \u001b[1m0s\u001b[0m 20ms/step\n",
            "\u001b[1m1/1\u001b[0m \u001b[32m━━━━━━━━━━━━━━━━━━━━\u001b[0m\u001b[37m\u001b[0m \u001b[1m0s\u001b[0m 20ms/step\n",
            "\u001b[1m1/1\u001b[0m \u001b[32m━━━━━━━━━━━━━━━━━━━━\u001b[0m\u001b[37m\u001b[0m \u001b[1m0s\u001b[0m 43ms/step\n"
          ]
        },
        {
          "output_type": "execute_result",
          "data": {
            "text/plain": [
              "[\"i just can't get it no matter what the strain\",\n",
              " \"break in silence and you'll feel my diversions crumble down\",\n",
              " \"on the fence is not a part of me they'll ricochet\",\n",
              " 'the only thing i can almost see you on the beach now',\n",
              " \"my dignity just let it come let it go no i can't see\",\n",
              " \"take a deep breath close your eyes we'll find the tune for your own truth\",\n",
              " 'will i get to the sky is turning red but i show them all',\n",
              " 'dashing through the storm can be gentle too',\n",
              " 'concealed to me you can feel it deep in my bones my blood',\n",
              " 'yet i always got each other',\n",
              " 'blood on your back i know myself and i dreamed of being braver',\n",
              " \"is a thing i don't know where to go but i know you've got you now\"]"
            ]
          },
          "metadata": {},
          "execution_count": 47
        }
      ],
      "source": [
        "start_i = np.random.choice(range(len(x_data)))\n",
        "start = np.array([x_data[start_i]])\n",
        "vectors = compose(start, model, 6)\n",
        "some_lyrics = get_random_lines(markov_model, 20)\n",
        "vectors_into_song(vectors, some_lyrics, rhymes, maxsyllables = 8)"
      ]
    }
  ],
  "metadata": {
    "colab": {
      "provenance": [],
      "include_colab_link": true
    },
    "kernelspec": {
      "display_name": "Python 3",
      "name": "python3"
    },
    "language_info": {
      "codemirror_mode": {
        "name": "ipython",
        "version": 3
      },
      "file_extension": ".py",
      "mimetype": "text/x-python",
      "name": "python",
      "nbconvert_exporter": "python",
      "pygments_lexer": "ipython3",
      "version": "3.12.2"
    }
  },
  "nbformat": 4,
  "nbformat_minor": 0
}